{
 "cells": [
  {
   "cell_type": "code",
   "execution_count": 1,
   "outputs": [],
   "source": [
    "import pandas as pd\n",
    "from sqlalchemy import create_engine\n",
    "import os\n",
    "from dotenv import load_dotenv\n",
    "\n",
    "load_dotenv()\n",
    "# Read connection config from .env\n",
    "connection = os.environ.get(\"POSTGRES_ENGINE\")\n",
    "\n",
    "engine = create_engine(connection)"
   ],
   "metadata": {
    "collapsed": false,
    "ExecuteTime": {
     "end_time": "2023-09-04T15:22:20.956242100Z",
     "start_time": "2023-09-04T15:22:19.973274600Z"
    }
   }
  },
  {
   "cell_type": "markdown",
   "source": [
    "# Data processing"
   ],
   "metadata": {
    "collapsed": false
   }
  },
  {
   "cell_type": "code",
   "execution_count": 33,
   "outputs": [],
   "source": [
    "# Read user_data and post_text tables\n",
    "user_data = pd.read_sql('SELECT * FROM public.user_data', con=engine)\n",
    "post_info = pd.read_sql('SELECT * FROM public.post_text_df', con=engine)"
   ],
   "metadata": {
    "collapsed": false,
    "ExecuteTime": {
     "end_time": "2023-09-04T07:11:20.350023200Z",
     "start_time": "2023-09-04T07:11:17.136161100Z"
    }
   }
  },
  {
   "cell_type": "code",
   "execution_count": 3,
   "outputs": [],
   "source": [
    "# Funtion to perform sql query in batches in order to avoid memory limits of server\n",
    "def batch_load_sql(query: str) -> pd.DataFrame:\n",
    "    CHUNKSIZE = 200000\n",
    "    engine = create_engine(connection)\n",
    "    conn = engine.connect().execution_options(stream_results=True)\n",
    "    chunks = []\n",
    "    for chunk_dataframe in pd.read_sql(query, conn, chunksize=CHUNKSIZE):\n",
    "        chunks.append(chunk_dataframe)\n",
    "    conn.close()\n",
    "    return pd.concat(chunks, ignore_index=True)"
   ],
   "metadata": {
    "collapsed": false,
    "ExecuteTime": {
     "end_time": "2023-09-04T06:58:04.727531300Z",
     "start_time": "2023-09-04T06:58:04.713168100Z"
    }
   }
  },
  {
   "cell_type": "code",
   "execution_count": null,
   "outputs": [],
   "source": [
    "# Load feed_data (long wait time)\n",
    "feed_data = batch_load_sql('SELECT * FROM public.feed_data limit 10000000')\n",
    "feed_data.shape"
   ],
   "metadata": {
    "collapsed": false
   }
  },
  {
   "cell_type": "code",
   "execution_count": null,
   "outputs": [],
   "source": [
    "# Save to csv to save time for future data loading\n",
    "feed_data.to_csv('feed_data', index=False)"
   ],
   "metadata": {
    "collapsed": false
   }
  },
  {
   "cell_type": "code",
   "execution_count": 23,
   "outputs": [],
   "source": [
    "# Load from csv if saved previously\n",
    "feed_data = pd.read_csv('feed_data')"
   ],
   "metadata": {
    "collapsed": false,
    "ExecuteTime": {
     "end_time": "2023-09-04T15:39:08.491571500Z",
     "start_time": "2023-09-04T15:38:57.183317700Z"
    }
   }
  },
  {
   "cell_type": "code",
   "execution_count": 34,
   "outputs": [
    {
     "data": {
      "text/plain": "             timestamp  user_id  post_id action  target\n0  2021-11-11 15:26:25   115699     5891   view       0\n1  2021-11-11 15:29:04   115699     3722   view       0\n2  2021-11-11 15:29:16   115699     1806   view       0\n3  2021-11-11 15:30:14   115699       34   view       0\n4  2021-11-11 15:31:12   115699     3335   view       0",
      "text/html": "<div>\n<style scoped>\n    .dataframe tbody tr th:only-of-type {\n        vertical-align: middle;\n    }\n\n    .dataframe tbody tr th {\n        vertical-align: top;\n    }\n\n    .dataframe thead th {\n        text-align: right;\n    }\n</style>\n<table border=\"1\" class=\"dataframe\">\n  <thead>\n    <tr style=\"text-align: right;\">\n      <th></th>\n      <th>timestamp</th>\n      <th>user_id</th>\n      <th>post_id</th>\n      <th>action</th>\n      <th>target</th>\n    </tr>\n  </thead>\n  <tbody>\n    <tr>\n      <th>0</th>\n      <td>2021-11-11 15:26:25</td>\n      <td>115699</td>\n      <td>5891</td>\n      <td>view</td>\n      <td>0</td>\n    </tr>\n    <tr>\n      <th>1</th>\n      <td>2021-11-11 15:29:04</td>\n      <td>115699</td>\n      <td>3722</td>\n      <td>view</td>\n      <td>0</td>\n    </tr>\n    <tr>\n      <th>2</th>\n      <td>2021-11-11 15:29:16</td>\n      <td>115699</td>\n      <td>1806</td>\n      <td>view</td>\n      <td>0</td>\n    </tr>\n    <tr>\n      <th>3</th>\n      <td>2021-11-11 15:30:14</td>\n      <td>115699</td>\n      <td>34</td>\n      <td>view</td>\n      <td>0</td>\n    </tr>\n    <tr>\n      <th>4</th>\n      <td>2021-11-11 15:31:12</td>\n      <td>115699</td>\n      <td>3335</td>\n      <td>view</td>\n      <td>0</td>\n    </tr>\n  </tbody>\n</table>\n</div>"
     },
     "execution_count": 34,
     "metadata": {},
     "output_type": "execute_result"
    }
   ],
   "source": [
    "feed_data.head()"
   ],
   "metadata": {
    "collapsed": false,
    "ExecuteTime": {
     "end_time": "2023-09-04T07:11:37.784826600Z",
     "start_time": "2023-09-04T07:11:26.957810100Z"
    }
   }
  },
  {
   "cell_type": "code",
   "execution_count": 35,
   "outputs": [
    {
     "data": {
      "text/plain": "             timestamp  user_id  post_id  target\n0  2021-11-11 15:26:25   115699     5891       0\n1  2021-11-11 15:29:04   115699     3722       0\n2  2021-11-11 15:29:16   115699     1806       0\n3  2021-11-11 15:30:14   115699       34       0\n4  2021-11-11 15:31:12   115699     3335       0",
      "text/html": "<div>\n<style scoped>\n    .dataframe tbody tr th:only-of-type {\n        vertical-align: middle;\n    }\n\n    .dataframe tbody tr th {\n        vertical-align: top;\n    }\n\n    .dataframe thead th {\n        text-align: right;\n    }\n</style>\n<table border=\"1\" class=\"dataframe\">\n  <thead>\n    <tr style=\"text-align: right;\">\n      <th></th>\n      <th>timestamp</th>\n      <th>user_id</th>\n      <th>post_id</th>\n      <th>target</th>\n    </tr>\n  </thead>\n  <tbody>\n    <tr>\n      <th>0</th>\n      <td>2021-11-11 15:26:25</td>\n      <td>115699</td>\n      <td>5891</td>\n      <td>0</td>\n    </tr>\n    <tr>\n      <th>1</th>\n      <td>2021-11-11 15:29:04</td>\n      <td>115699</td>\n      <td>3722</td>\n      <td>0</td>\n    </tr>\n    <tr>\n      <th>2</th>\n      <td>2021-11-11 15:29:16</td>\n      <td>115699</td>\n      <td>1806</td>\n      <td>0</td>\n    </tr>\n    <tr>\n      <th>3</th>\n      <td>2021-11-11 15:30:14</td>\n      <td>115699</td>\n      <td>34</td>\n      <td>0</td>\n    </tr>\n    <tr>\n      <th>4</th>\n      <td>2021-11-11 15:31:12</td>\n      <td>115699</td>\n      <td>3335</td>\n      <td>0</td>\n    </tr>\n  </tbody>\n</table>\n</div>"
     },
     "execution_count": 35,
     "metadata": {},
     "output_type": "execute_result"
    }
   ],
   "source": [
    "feed_data = feed_data.drop(feed_data[feed_data.target == 1].index)\n",
    "feed_data.loc[feed_data['action'] == 'like', 'target'] = 1\n",
    "feed_data = feed_data.drop('action', axis=1)\n",
    "feed_data.head()"
   ],
   "metadata": {
    "collapsed": false,
    "ExecuteTime": {
     "end_time": "2023-09-04T07:11:39.354475800Z",
     "start_time": "2023-09-04T07:11:37.784826600Z"
    }
   }
  },
  {
   "cell_type": "code",
   "execution_count": 36,
   "outputs": [],
   "source": [
    "# Post's text processing with nltk and TfIdf\n",
    "import re\n",
    "import string\n",
    "\n",
    "from nltk.stem import WordNetLemmatizer\n",
    "from sklearn.feature_extraction.text import TfidfVectorizer\n",
    "\n",
    "wnl = WordNetLemmatizer()\n",
    "\n",
    "\n",
    "def preprocessing(line, token=wnl):\n",
    "    line = line.lower()\n",
    "    line = re.sub(r\"[{}]\".format(string.punctuation), \" \", line)\n",
    "    line = line.replace('\\n\\n', ' ').replace('\\n', ' ')\n",
    "    line = ' '.join([token.lemmatize(x) for x in line.split(' ')])\n",
    "    return line\n",
    "\n",
    "\n",
    "tfidf = TfidfVectorizer(\n",
    "    stop_words='english',\n",
    "    preprocessor=preprocessing\n",
    ")"
   ],
   "metadata": {
    "collapsed": false,
    "ExecuteTime": {
     "end_time": "2023-09-04T07:11:39.368166500Z",
     "start_time": "2023-09-04T07:11:39.339358200Z"
    }
   }
  },
  {
   "cell_type": "code",
   "execution_count": 37,
   "outputs": [
    {
     "name": "stderr",
     "output_type": "stream",
     "text": [
      "C:\\Users\\nonam\\Documents\\python_local\\simulator_ml\\post rec system\\lib\\site-packages\\sklearn\\feature_extraction\\text.py:408: UserWarning: Your stop_words may be inconsistent with your preprocessing. Tokenizing the stop words generated tokens ['ha', 'le', 'wa'] not in stop_words.\n",
      "  warnings.warn(\n"
     ]
    }
   ],
   "source": [
    "tfidf_data = (\n",
    "    tfidf\n",
    "    .fit_transform(post_info['text'])\n",
    "    .toarray()\n",
    ")\n",
    "\n",
    "tfidf_data = pd.DataFrame(\n",
    "    tfidf_data,\n",
    "    index=post_info.post_id,\n",
    "    columns=tfidf.get_feature_names_out()\n",
    ")"
   ],
   "metadata": {
    "collapsed": false,
    "ExecuteTime": {
     "end_time": "2023-09-04T07:11:48.264549500Z",
     "start_time": "2023-09-04T07:11:39.353475600Z"
    }
   }
  },
  {
   "cell_type": "code",
   "execution_count": 38,
   "outputs": [
    {
     "data": {
      "text/plain": "   post_id                                               text     topic  \\\n0        1  UK economy facing major risks\\n\\nThe UK manufa...  business   \n1        2  Aids and climate top Davos agenda\\n\\nClimate c...  business   \n2        3  Asian quake hits European shares\\n\\nShares in ...  business   \n3        4  India power shares jump on debut\\n\\nShares in ...  business   \n4        5  Lacroix label bought by US firm\\n\\nLuxury good...  business   \n\n   TotalTfIdf  MaxTfIdf  MeanTfIdf  \n0    8.748129  0.495805   0.000190  \n1   11.878472  0.308003   0.000258  \n2   12.675530  0.261799   0.000276  \n3    6.622786  0.537713   0.000144  \n4    6.352096  0.420251   0.000138  ",
      "text/html": "<div>\n<style scoped>\n    .dataframe tbody tr th:only-of-type {\n        vertical-align: middle;\n    }\n\n    .dataframe tbody tr th {\n        vertical-align: top;\n    }\n\n    .dataframe thead th {\n        text-align: right;\n    }\n</style>\n<table border=\"1\" class=\"dataframe\">\n  <thead>\n    <tr style=\"text-align: right;\">\n      <th></th>\n      <th>post_id</th>\n      <th>text</th>\n      <th>topic</th>\n      <th>TotalTfIdf</th>\n      <th>MaxTfIdf</th>\n      <th>MeanTfIdf</th>\n    </tr>\n  </thead>\n  <tbody>\n    <tr>\n      <th>0</th>\n      <td>1</td>\n      <td>UK economy facing major risks\\n\\nThe UK manufa...</td>\n      <td>business</td>\n      <td>8.748129</td>\n      <td>0.495805</td>\n      <td>0.000190</td>\n    </tr>\n    <tr>\n      <th>1</th>\n      <td>2</td>\n      <td>Aids and climate top Davos agenda\\n\\nClimate c...</td>\n      <td>business</td>\n      <td>11.878472</td>\n      <td>0.308003</td>\n      <td>0.000258</td>\n    </tr>\n    <tr>\n      <th>2</th>\n      <td>3</td>\n      <td>Asian quake hits European shares\\n\\nShares in ...</td>\n      <td>business</td>\n      <td>12.675530</td>\n      <td>0.261799</td>\n      <td>0.000276</td>\n    </tr>\n    <tr>\n      <th>3</th>\n      <td>4</td>\n      <td>India power shares jump on debut\\n\\nShares in ...</td>\n      <td>business</td>\n      <td>6.622786</td>\n      <td>0.537713</td>\n      <td>0.000144</td>\n    </tr>\n    <tr>\n      <th>4</th>\n      <td>5</td>\n      <td>Lacroix label bought by US firm\\n\\nLuxury good...</td>\n      <td>business</td>\n      <td>6.352096</td>\n      <td>0.420251</td>\n      <td>0.000138</td>\n    </tr>\n  </tbody>\n</table>\n</div>"
     },
     "execution_count": 38,
     "metadata": {},
     "output_type": "execute_result"
    }
   ],
   "source": [
    "# Create features based on TfIdf\n",
    "post_info['TotalTfIdf'] = tfidf_data.sum(axis=1).reset_index()[0]\n",
    "post_info['MaxTfIdf'] = tfidf_data.max(axis=1).reset_index()[0]\n",
    "post_info['MeanTfIdf'] = tfidf_data.mean(axis=1).reset_index()[0]\n",
    "\n",
    "post_info.head()"
   ],
   "metadata": {
    "collapsed": false,
    "ExecuteTime": {
     "end_time": "2023-09-04T07:11:51.770004900Z",
     "start_time": "2023-09-04T07:11:48.244931800Z"
    }
   }
  },
  {
   "cell_type": "code",
   "execution_count": 39,
   "outputs": [
    {
     "name": "stderr",
     "output_type": "stream",
     "text": [
      "C:\\Users\\nonam\\Documents\\python_local\\simulator_ml\\post rec system\\lib\\site-packages\\sklearn\\cluster\\_kmeans.py:1412: FutureWarning: The default value of `n_init` will change from 10 to 'auto' in 1.4. Set the value of `n_init` explicitly to suppress the warning\n",
      "  super()._check_params_vs_input(X, default_n_init=10)\n"
     ]
    },
    {
     "data": {
      "text/plain": "   DistanceTo1thCluster  DistanceTo2thCluster  DistanceTo3thCluster  \\\n0              0.443200              0.478396              0.451612   \n1              0.296991              0.339678              0.308105   \n2              0.329922              0.361063              0.334318   \n3              0.290443              0.318269              0.272464   \n4              0.223669              0.257254              0.197249   \n\n   DistanceTo4thCluster  DistanceTo5thCluster  DistanceTo6thCluster  \\\n0              0.435837              0.498823              0.437494   \n1              0.273176              0.370485              0.281348   \n2              0.318718              0.384941              0.308293   \n3              0.261157              0.346719              0.254609   \n4              0.220332              0.289619              0.164602   \n\n   DistanceTo7thCluster  DistanceTo8thCluster  DistanceTo9thCluster  \\\n0              0.521054              0.330863              0.527461   \n1              0.252152              0.155099              0.409704   \n2              0.462507              0.175753              0.431099   \n3              0.410300              0.115072              0.381911   \n4              0.371760              0.121962              0.341579   \n\n   DistanceTo10thCluster  \n0               0.537637  \n1               0.434167  \n2               0.468838  \n3               0.431798  \n4               0.388580  ",
      "text/html": "<div>\n<style scoped>\n    .dataframe tbody tr th:only-of-type {\n        vertical-align: middle;\n    }\n\n    .dataframe tbody tr th {\n        vertical-align: top;\n    }\n\n    .dataframe thead th {\n        text-align: right;\n    }\n</style>\n<table border=\"1\" class=\"dataframe\">\n  <thead>\n    <tr style=\"text-align: right;\">\n      <th></th>\n      <th>DistanceTo1thCluster</th>\n      <th>DistanceTo2thCluster</th>\n      <th>DistanceTo3thCluster</th>\n      <th>DistanceTo4thCluster</th>\n      <th>DistanceTo5thCluster</th>\n      <th>DistanceTo6thCluster</th>\n      <th>DistanceTo7thCluster</th>\n      <th>DistanceTo8thCluster</th>\n      <th>DistanceTo9thCluster</th>\n      <th>DistanceTo10thCluster</th>\n    </tr>\n  </thead>\n  <tbody>\n    <tr>\n      <th>0</th>\n      <td>0.443200</td>\n      <td>0.478396</td>\n      <td>0.451612</td>\n      <td>0.435837</td>\n      <td>0.498823</td>\n      <td>0.437494</td>\n      <td>0.521054</td>\n      <td>0.330863</td>\n      <td>0.527461</td>\n      <td>0.537637</td>\n    </tr>\n    <tr>\n      <th>1</th>\n      <td>0.296991</td>\n      <td>0.339678</td>\n      <td>0.308105</td>\n      <td>0.273176</td>\n      <td>0.370485</td>\n      <td>0.281348</td>\n      <td>0.252152</td>\n      <td>0.155099</td>\n      <td>0.409704</td>\n      <td>0.434167</td>\n    </tr>\n    <tr>\n      <th>2</th>\n      <td>0.329922</td>\n      <td>0.361063</td>\n      <td>0.334318</td>\n      <td>0.318718</td>\n      <td>0.384941</td>\n      <td>0.308293</td>\n      <td>0.462507</td>\n      <td>0.175753</td>\n      <td>0.431099</td>\n      <td>0.468838</td>\n    </tr>\n    <tr>\n      <th>3</th>\n      <td>0.290443</td>\n      <td>0.318269</td>\n      <td>0.272464</td>\n      <td>0.261157</td>\n      <td>0.346719</td>\n      <td>0.254609</td>\n      <td>0.410300</td>\n      <td>0.115072</td>\n      <td>0.381911</td>\n      <td>0.431798</td>\n    </tr>\n    <tr>\n      <th>4</th>\n      <td>0.223669</td>\n      <td>0.257254</td>\n      <td>0.197249</td>\n      <td>0.220332</td>\n      <td>0.289619</td>\n      <td>0.164602</td>\n      <td>0.371760</td>\n      <td>0.121962</td>\n      <td>0.341579</td>\n      <td>0.388580</td>\n    </tr>\n  </tbody>\n</table>\n</div>"
     },
     "execution_count": 39,
     "metadata": {},
     "output_type": "execute_result"
    }
   ],
   "source": [
    "#Create clusters\n",
    "\n",
    "from sklearn.decomposition import PCA\n",
    "\n",
    "centered = tfidf_data - tfidf_data.mean()\n",
    "\n",
    "pca = PCA(n_components=20)\n",
    "pca_decomp = pca.fit_transform(centered)\n",
    "\n",
    "from sklearn.cluster import KMeans\n",
    "\n",
    "kmeans = KMeans(n_clusters=10, random_state=0).fit(pca_decomp)\n",
    "\n",
    "post_info['TextCluster'] = kmeans.labels_\n",
    "\n",
    "dists_columns = [f\"DistanceTo{ith}thCluster\" for ith in range(1, 11)]\n",
    "\n",
    "dists_df = pd.DataFrame(data=kmeans.transform(pca_decomp), columns=dists_columns)\n",
    "\n",
    "dists_df.head()"
   ],
   "metadata": {
    "collapsed": false,
    "ExecuteTime": {
     "end_time": "2023-09-04T07:12:06.500998100Z",
     "start_time": "2023-09-04T07:11:51.768500Z"
    }
   }
  },
  {
   "cell_type": "code",
   "execution_count": 40,
   "outputs": [
    {
     "data": {
      "text/plain": "   post_id     topic  TotalTfIdf  MaxTfIdf  MeanTfIdf  TextCluster  \\\n0        1  business    8.748129  0.495805   0.000190            7   \n1        2  business   11.878472  0.308003   0.000258            7   \n2        3  business   12.675530  0.261799   0.000276            7   \n3        4  business    6.622786  0.537713   0.000144            7   \n4        5  business    6.352096  0.420251   0.000138            7   \n\n   DistanceTo1thCluster  DistanceTo2thCluster  DistanceTo3thCluster  \\\n0              0.443200              0.478396              0.451612   \n1              0.296991              0.339678              0.308105   \n2              0.329922              0.361063              0.334318   \n3              0.290443              0.318269              0.272464   \n4              0.223669              0.257254              0.197249   \n\n   DistanceTo4thCluster  DistanceTo5thCluster  DistanceTo6thCluster  \\\n0              0.435837              0.498823              0.437494   \n1              0.273176              0.370485              0.281348   \n2              0.318718              0.384941              0.308293   \n3              0.261157              0.346719              0.254609   \n4              0.220332              0.289619              0.164602   \n\n   DistanceTo7thCluster  DistanceTo8thCluster  DistanceTo9thCluster  \\\n0              0.521054              0.330863              0.527461   \n1              0.252152              0.155099              0.409704   \n2              0.462507              0.175753              0.431099   \n3              0.410300              0.115072              0.381911   \n4              0.371760              0.121962              0.341579   \n\n   DistanceTo10thCluster  \n0               0.537637  \n1               0.434167  \n2               0.468838  \n3               0.431798  \n4               0.388580  ",
      "text/html": "<div>\n<style scoped>\n    .dataframe tbody tr th:only-of-type {\n        vertical-align: middle;\n    }\n\n    .dataframe tbody tr th {\n        vertical-align: top;\n    }\n\n    .dataframe thead th {\n        text-align: right;\n    }\n</style>\n<table border=\"1\" class=\"dataframe\">\n  <thead>\n    <tr style=\"text-align: right;\">\n      <th></th>\n      <th>post_id</th>\n      <th>topic</th>\n      <th>TotalTfIdf</th>\n      <th>MaxTfIdf</th>\n      <th>MeanTfIdf</th>\n      <th>TextCluster</th>\n      <th>DistanceTo1thCluster</th>\n      <th>DistanceTo2thCluster</th>\n      <th>DistanceTo3thCluster</th>\n      <th>DistanceTo4thCluster</th>\n      <th>DistanceTo5thCluster</th>\n      <th>DistanceTo6thCluster</th>\n      <th>DistanceTo7thCluster</th>\n      <th>DistanceTo8thCluster</th>\n      <th>DistanceTo9thCluster</th>\n      <th>DistanceTo10thCluster</th>\n    </tr>\n  </thead>\n  <tbody>\n    <tr>\n      <th>0</th>\n      <td>1</td>\n      <td>business</td>\n      <td>8.748129</td>\n      <td>0.495805</td>\n      <td>0.000190</td>\n      <td>7</td>\n      <td>0.443200</td>\n      <td>0.478396</td>\n      <td>0.451612</td>\n      <td>0.435837</td>\n      <td>0.498823</td>\n      <td>0.437494</td>\n      <td>0.521054</td>\n      <td>0.330863</td>\n      <td>0.527461</td>\n      <td>0.537637</td>\n    </tr>\n    <tr>\n      <th>1</th>\n      <td>2</td>\n      <td>business</td>\n      <td>11.878472</td>\n      <td>0.308003</td>\n      <td>0.000258</td>\n      <td>7</td>\n      <td>0.296991</td>\n      <td>0.339678</td>\n      <td>0.308105</td>\n      <td>0.273176</td>\n      <td>0.370485</td>\n      <td>0.281348</td>\n      <td>0.252152</td>\n      <td>0.155099</td>\n      <td>0.409704</td>\n      <td>0.434167</td>\n    </tr>\n    <tr>\n      <th>2</th>\n      <td>3</td>\n      <td>business</td>\n      <td>12.675530</td>\n      <td>0.261799</td>\n      <td>0.000276</td>\n      <td>7</td>\n      <td>0.329922</td>\n      <td>0.361063</td>\n      <td>0.334318</td>\n      <td>0.318718</td>\n      <td>0.384941</td>\n      <td>0.308293</td>\n      <td>0.462507</td>\n      <td>0.175753</td>\n      <td>0.431099</td>\n      <td>0.468838</td>\n    </tr>\n    <tr>\n      <th>3</th>\n      <td>4</td>\n      <td>business</td>\n      <td>6.622786</td>\n      <td>0.537713</td>\n      <td>0.000144</td>\n      <td>7</td>\n      <td>0.290443</td>\n      <td>0.318269</td>\n      <td>0.272464</td>\n      <td>0.261157</td>\n      <td>0.346719</td>\n      <td>0.254609</td>\n      <td>0.410300</td>\n      <td>0.115072</td>\n      <td>0.381911</td>\n      <td>0.431798</td>\n    </tr>\n    <tr>\n      <th>4</th>\n      <td>5</td>\n      <td>business</td>\n      <td>6.352096</td>\n      <td>0.420251</td>\n      <td>0.000138</td>\n      <td>7</td>\n      <td>0.223669</td>\n      <td>0.257254</td>\n      <td>0.197249</td>\n      <td>0.220332</td>\n      <td>0.289619</td>\n      <td>0.164602</td>\n      <td>0.371760</td>\n      <td>0.121962</td>\n      <td>0.341579</td>\n      <td>0.388580</td>\n    </tr>\n  </tbody>\n</table>\n</div>"
     },
     "execution_count": 40,
     "metadata": {},
     "output_type": "execute_result"
    }
   ],
   "source": [
    "post_info = pd.concat((post_info, dists_df), axis=1)\n",
    "post_info = post_info.drop('text', axis=1)\n",
    "\n",
    "post_info.head()"
   ],
   "metadata": {
    "collapsed": false,
    "ExecuteTime": {
     "end_time": "2023-09-04T07:12:06.591315800Z",
     "start_time": "2023-09-04T07:12:06.499994300Z"
    }
   }
  },
  {
   "cell_type": "code",
   "execution_count": 41,
   "outputs": [
    {
     "data": {
      "text/plain": "                           timestamp  target     topic  TotalTfIdf  MaxTfIdf  \\\nuser_id post_id                                                                \n115699  5891     2021-11-11 15:26:25       0     movie    9.295552  0.372350   \n        3722     2021-11-11 15:29:04       0     covid    3.334907  0.377945   \n        1806     2021-11-11 15:29:16       0     sport   11.597768  0.333857   \n        34       2021-11-11 15:30:14       0  business    9.813704  0.274861   \n        3335     2021-11-11 15:31:12       0     covid    2.729815  0.501286   \n\n                 MeanTfIdf  TextCluster  DistanceTo1thCluster  \\\nuser_id post_id                                                 \n115699  5891      0.000202            4              0.273415   \n        3722      0.000072            2              0.252464   \n        1806      0.000252            0              0.106828   \n        34        0.000213            7              0.322322   \n        3335      0.000059            2              0.320389   \n\n                 DistanceTo2thCluster  DistanceTo3thCluster  ...  \\\nuser_id post_id                                              ...   \n115699  5891                 0.186306              0.294690  ...   \n        3722                 0.280438              0.052103  ...   \n        1806                 0.260252              0.238966  ...   \n        34                   0.342413              0.314194  ...   \n        3335                 0.326815              0.099675  ...   \n\n                 DistanceTo8thCluster  DistanceTo9thCluster  \\\nuser_id post_id                                               \n115699  5891                 0.295488              0.407293   \n        3722                 0.246210              0.298523   \n        1806                 0.239119              0.368559   \n        34                   0.181363              0.421279   \n        3335                 0.301411              0.320111   \n\n                 DistanceTo10thCluster  gender  age  country       city  \\\nuser_id post_id                                                           \n115699  5891                  0.424216       0   17   Russia  Yaroslavl   \n        3722                  0.410573       0   17   Russia  Yaroslavl   \n        1806                  0.388291       0   17   Russia  Yaroslavl   \n        34                    0.431956       0   17   Russia  Yaroslavl   \n        3335                  0.446397       0   17   Russia  Yaroslavl   \n\n                 exp_group       os   source  \nuser_id post_id                               \n115699  5891             4  Android  organic  \n        3722             4  Android  organic  \n        1806             4  Android  organic  \n        34               4  Android  organic  \n        3335             4  Android  organic  \n\n[5 rows x 24 columns]",
      "text/html": "<div>\n<style scoped>\n    .dataframe tbody tr th:only-of-type {\n        vertical-align: middle;\n    }\n\n    .dataframe tbody tr th {\n        vertical-align: top;\n    }\n\n    .dataframe thead th {\n        text-align: right;\n    }\n</style>\n<table border=\"1\" class=\"dataframe\">\n  <thead>\n    <tr style=\"text-align: right;\">\n      <th></th>\n      <th></th>\n      <th>timestamp</th>\n      <th>target</th>\n      <th>topic</th>\n      <th>TotalTfIdf</th>\n      <th>MaxTfIdf</th>\n      <th>MeanTfIdf</th>\n      <th>TextCluster</th>\n      <th>DistanceTo1thCluster</th>\n      <th>DistanceTo2thCluster</th>\n      <th>DistanceTo3thCluster</th>\n      <th>...</th>\n      <th>DistanceTo8thCluster</th>\n      <th>DistanceTo9thCluster</th>\n      <th>DistanceTo10thCluster</th>\n      <th>gender</th>\n      <th>age</th>\n      <th>country</th>\n      <th>city</th>\n      <th>exp_group</th>\n      <th>os</th>\n      <th>source</th>\n    </tr>\n    <tr>\n      <th>user_id</th>\n      <th>post_id</th>\n      <th></th>\n      <th></th>\n      <th></th>\n      <th></th>\n      <th></th>\n      <th></th>\n      <th></th>\n      <th></th>\n      <th></th>\n      <th></th>\n      <th></th>\n      <th></th>\n      <th></th>\n      <th></th>\n      <th></th>\n      <th></th>\n      <th></th>\n      <th></th>\n      <th></th>\n      <th></th>\n      <th></th>\n    </tr>\n  </thead>\n  <tbody>\n    <tr>\n      <th rowspan=\"5\" valign=\"top\">115699</th>\n      <th>5891</th>\n      <td>2021-11-11 15:26:25</td>\n      <td>0</td>\n      <td>movie</td>\n      <td>9.295552</td>\n      <td>0.372350</td>\n      <td>0.000202</td>\n      <td>4</td>\n      <td>0.273415</td>\n      <td>0.186306</td>\n      <td>0.294690</td>\n      <td>...</td>\n      <td>0.295488</td>\n      <td>0.407293</td>\n      <td>0.424216</td>\n      <td>0</td>\n      <td>17</td>\n      <td>Russia</td>\n      <td>Yaroslavl</td>\n      <td>4</td>\n      <td>Android</td>\n      <td>organic</td>\n    </tr>\n    <tr>\n      <th>3722</th>\n      <td>2021-11-11 15:29:04</td>\n      <td>0</td>\n      <td>covid</td>\n      <td>3.334907</td>\n      <td>0.377945</td>\n      <td>0.000072</td>\n      <td>2</td>\n      <td>0.252464</td>\n      <td>0.280438</td>\n      <td>0.052103</td>\n      <td>...</td>\n      <td>0.246210</td>\n      <td>0.298523</td>\n      <td>0.410573</td>\n      <td>0</td>\n      <td>17</td>\n      <td>Russia</td>\n      <td>Yaroslavl</td>\n      <td>4</td>\n      <td>Android</td>\n      <td>organic</td>\n    </tr>\n    <tr>\n      <th>1806</th>\n      <td>2021-11-11 15:29:16</td>\n      <td>0</td>\n      <td>sport</td>\n      <td>11.597768</td>\n      <td>0.333857</td>\n      <td>0.000252</td>\n      <td>0</td>\n      <td>0.106828</td>\n      <td>0.260252</td>\n      <td>0.238966</td>\n      <td>...</td>\n      <td>0.239119</td>\n      <td>0.368559</td>\n      <td>0.388291</td>\n      <td>0</td>\n      <td>17</td>\n      <td>Russia</td>\n      <td>Yaroslavl</td>\n      <td>4</td>\n      <td>Android</td>\n      <td>organic</td>\n    </tr>\n    <tr>\n      <th>34</th>\n      <td>2021-11-11 15:30:14</td>\n      <td>0</td>\n      <td>business</td>\n      <td>9.813704</td>\n      <td>0.274861</td>\n      <td>0.000213</td>\n      <td>7</td>\n      <td>0.322322</td>\n      <td>0.342413</td>\n      <td>0.314194</td>\n      <td>...</td>\n      <td>0.181363</td>\n      <td>0.421279</td>\n      <td>0.431956</td>\n      <td>0</td>\n      <td>17</td>\n      <td>Russia</td>\n      <td>Yaroslavl</td>\n      <td>4</td>\n      <td>Android</td>\n      <td>organic</td>\n    </tr>\n    <tr>\n      <th>3335</th>\n      <td>2021-11-11 15:31:12</td>\n      <td>0</td>\n      <td>covid</td>\n      <td>2.729815</td>\n      <td>0.501286</td>\n      <td>0.000059</td>\n      <td>2</td>\n      <td>0.320389</td>\n      <td>0.326815</td>\n      <td>0.099675</td>\n      <td>...</td>\n      <td>0.301411</td>\n      <td>0.320111</td>\n      <td>0.446397</td>\n      <td>0</td>\n      <td>17</td>\n      <td>Russia</td>\n      <td>Yaroslavl</td>\n      <td>4</td>\n      <td>Android</td>\n      <td>organic</td>\n    </tr>\n  </tbody>\n</table>\n<p>5 rows × 24 columns</p>\n</div>"
     },
     "execution_count": 41,
     "metadata": {},
     "output_type": "execute_result"
    }
   ],
   "source": [
    "data = pd.merge(feed_data,\n",
    "                post_info,\n",
    "                on='post_id',\n",
    "                how='left')\n",
    "\n",
    "data = pd.merge(data,\n",
    "                user_data,\n",
    "                on='user_id',\n",
    "                how='left')\n",
    "\n",
    "data = data.set_index(['user_id', 'post_id'])\n",
    "\n",
    "data.head()"
   ],
   "metadata": {
    "collapsed": false,
    "ExecuteTime": {
     "end_time": "2023-09-04T07:12:15.036892700Z",
     "start_time": "2023-09-04T07:12:06.516544100Z"
    }
   }
  },
  {
   "cell_type": "code",
   "execution_count": 42,
   "outputs": [
    {
     "data": {
      "text/plain": "                           timestamp     topic  TotalTfIdf  MaxTfIdf  \\\nuser_id post_id                                                        \n115699  5891     2021-11-11 15:26:25     movie    9.295552  0.372350   \n        3722     2021-11-11 15:29:04     covid    3.334907  0.377945   \n        1806     2021-11-11 15:29:16     sport   11.597768  0.333857   \n        34       2021-11-11 15:30:14  business    9.813704  0.274861   \n        3335     2021-11-11 15:31:12     covid    2.729815  0.501286   \n...                              ...       ...         ...       ...   \n108908  1049     2021-10-21 20:10:09  politics    9.356786  0.354618   \n        4724     2021-10-21 20:15:52     movie    5.893446  0.401411   \n        1091     2021-10-21 20:15:54  politics    9.732873  0.604797   \n        3086     2021-10-21 20:17:38     covid    3.238184  0.452428   \n        3575     2021-10-21 20:20:25     covid    3.134135  0.440139   \n\n                 MeanTfIdf  TextCluster  DistanceTo1thCluster  \\\nuser_id post_id                                                 \n115699  5891      0.000202            4              0.273415   \n        3722      0.000072            2              0.252464   \n        1806      0.000252            0              0.106828   \n        34        0.000213            7              0.322322   \n        3335      0.000059            2              0.320389   \n...                    ...          ...                   ...   \n108908  1049      0.000203            6              0.381299   \n        4724      0.000128            4              0.342960   \n        1091      0.000212            6              0.332922   \n        3086      0.000070            2              0.293016   \n        3575      0.000068            2              0.245324   \n\n                 DistanceTo2thCluster  DistanceTo3thCluster  \\\nuser_id post_id                                               \n115699  5891                 0.186306              0.294690   \n        3722                 0.280438              0.052103   \n        1806                 0.260252              0.238966   \n        34                   0.342413              0.314194   \n        3335                 0.326815              0.099675   \n...                               ...                   ...   \n108908  1049                 0.416364              0.401152   \n        4724                 0.278021              0.356239   \n        1091                 0.367044              0.333849   \n        3086                 0.306961              0.056760   \n        3575                 0.263387              0.068991   \n\n                 DistanceTo4thCluster  ...  gender  age  country       city  \\\nuser_id post_id                        ...                                    \n115699  5891                 0.323835  ...       0   17   Russia  Yaroslavl   \n        3722                 0.300293  ...       0   17   Russia  Yaroslavl   \n        1806                 0.292623  ...       0   17   Russia  Yaroslavl   \n        34                   0.301182  ...       0   17   Russia  Yaroslavl   \n        3335                 0.332633  ...       0   17   Russia  Yaroslavl   \n...                               ...  ...     ...  ...      ...        ...   \n108908  1049                 0.383118  ...       0   25   Russia     Moscow   \n        4724                 0.382379  ...       0   25   Russia     Moscow   \n        1091                 0.358410  ...       0   25   Russia     Moscow   \n        3086                 0.324757  ...       0   25   Russia     Moscow   \n        3575                 0.272571  ...       0   25   Russia     Moscow   \n\n                 exp_group       os   source  weekend hour target  \nuser_id post_id                                                    \n115699  5891             4  Android  organic        0   15      0  \n        3722             4  Android  organic        0   15      0  \n        1806             4  Android  organic        0   15      0  \n        34               4  Android  organic        0   15      0  \n        3335             4  Android  organic        0   15      0  \n...                    ...      ...      ...      ...  ...    ...  \n108908  1049             2      iOS  organic        0   20      0  \n        4724             2      iOS  organic        0   20      1  \n        1091             2      iOS  organic        0   20      0  \n        3086             2      iOS  organic        0   20      0  \n        3575             2      iOS  organic        0   20      0  \n\n[8929757 rows x 26 columns]",
      "text/html": "<div>\n<style scoped>\n    .dataframe tbody tr th:only-of-type {\n        vertical-align: middle;\n    }\n\n    .dataframe tbody tr th {\n        vertical-align: top;\n    }\n\n    .dataframe thead th {\n        text-align: right;\n    }\n</style>\n<table border=\"1\" class=\"dataframe\">\n  <thead>\n    <tr style=\"text-align: right;\">\n      <th></th>\n      <th></th>\n      <th>timestamp</th>\n      <th>topic</th>\n      <th>TotalTfIdf</th>\n      <th>MaxTfIdf</th>\n      <th>MeanTfIdf</th>\n      <th>TextCluster</th>\n      <th>DistanceTo1thCluster</th>\n      <th>DistanceTo2thCluster</th>\n      <th>DistanceTo3thCluster</th>\n      <th>DistanceTo4thCluster</th>\n      <th>...</th>\n      <th>gender</th>\n      <th>age</th>\n      <th>country</th>\n      <th>city</th>\n      <th>exp_group</th>\n      <th>os</th>\n      <th>source</th>\n      <th>weekend</th>\n      <th>hour</th>\n      <th>target</th>\n    </tr>\n    <tr>\n      <th>user_id</th>\n      <th>post_id</th>\n      <th></th>\n      <th></th>\n      <th></th>\n      <th></th>\n      <th></th>\n      <th></th>\n      <th></th>\n      <th></th>\n      <th></th>\n      <th></th>\n      <th></th>\n      <th></th>\n      <th></th>\n      <th></th>\n      <th></th>\n      <th></th>\n      <th></th>\n      <th></th>\n      <th></th>\n      <th></th>\n      <th></th>\n    </tr>\n  </thead>\n  <tbody>\n    <tr>\n      <th rowspan=\"5\" valign=\"top\">115699</th>\n      <th>5891</th>\n      <td>2021-11-11 15:26:25</td>\n      <td>movie</td>\n      <td>9.295552</td>\n      <td>0.372350</td>\n      <td>0.000202</td>\n      <td>4</td>\n      <td>0.273415</td>\n      <td>0.186306</td>\n      <td>0.294690</td>\n      <td>0.323835</td>\n      <td>...</td>\n      <td>0</td>\n      <td>17</td>\n      <td>Russia</td>\n      <td>Yaroslavl</td>\n      <td>4</td>\n      <td>Android</td>\n      <td>organic</td>\n      <td>0</td>\n      <td>15</td>\n      <td>0</td>\n    </tr>\n    <tr>\n      <th>3722</th>\n      <td>2021-11-11 15:29:04</td>\n      <td>covid</td>\n      <td>3.334907</td>\n      <td>0.377945</td>\n      <td>0.000072</td>\n      <td>2</td>\n      <td>0.252464</td>\n      <td>0.280438</td>\n      <td>0.052103</td>\n      <td>0.300293</td>\n      <td>...</td>\n      <td>0</td>\n      <td>17</td>\n      <td>Russia</td>\n      <td>Yaroslavl</td>\n      <td>4</td>\n      <td>Android</td>\n      <td>organic</td>\n      <td>0</td>\n      <td>15</td>\n      <td>0</td>\n    </tr>\n    <tr>\n      <th>1806</th>\n      <td>2021-11-11 15:29:16</td>\n      <td>sport</td>\n      <td>11.597768</td>\n      <td>0.333857</td>\n      <td>0.000252</td>\n      <td>0</td>\n      <td>0.106828</td>\n      <td>0.260252</td>\n      <td>0.238966</td>\n      <td>0.292623</td>\n      <td>...</td>\n      <td>0</td>\n      <td>17</td>\n      <td>Russia</td>\n      <td>Yaroslavl</td>\n      <td>4</td>\n      <td>Android</td>\n      <td>organic</td>\n      <td>0</td>\n      <td>15</td>\n      <td>0</td>\n    </tr>\n    <tr>\n      <th>34</th>\n      <td>2021-11-11 15:30:14</td>\n      <td>business</td>\n      <td>9.813704</td>\n      <td>0.274861</td>\n      <td>0.000213</td>\n      <td>7</td>\n      <td>0.322322</td>\n      <td>0.342413</td>\n      <td>0.314194</td>\n      <td>0.301182</td>\n      <td>...</td>\n      <td>0</td>\n      <td>17</td>\n      <td>Russia</td>\n      <td>Yaroslavl</td>\n      <td>4</td>\n      <td>Android</td>\n      <td>organic</td>\n      <td>0</td>\n      <td>15</td>\n      <td>0</td>\n    </tr>\n    <tr>\n      <th>3335</th>\n      <td>2021-11-11 15:31:12</td>\n      <td>covid</td>\n      <td>2.729815</td>\n      <td>0.501286</td>\n      <td>0.000059</td>\n      <td>2</td>\n      <td>0.320389</td>\n      <td>0.326815</td>\n      <td>0.099675</td>\n      <td>0.332633</td>\n      <td>...</td>\n      <td>0</td>\n      <td>17</td>\n      <td>Russia</td>\n      <td>Yaroslavl</td>\n      <td>4</td>\n      <td>Android</td>\n      <td>organic</td>\n      <td>0</td>\n      <td>15</td>\n      <td>0</td>\n    </tr>\n    <tr>\n      <th>...</th>\n      <th>...</th>\n      <td>...</td>\n      <td>...</td>\n      <td>...</td>\n      <td>...</td>\n      <td>...</td>\n      <td>...</td>\n      <td>...</td>\n      <td>...</td>\n      <td>...</td>\n      <td>...</td>\n      <td>...</td>\n      <td>...</td>\n      <td>...</td>\n      <td>...</td>\n      <td>...</td>\n      <td>...</td>\n      <td>...</td>\n      <td>...</td>\n      <td>...</td>\n      <td>...</td>\n      <td>...</td>\n    </tr>\n    <tr>\n      <th rowspan=\"5\" valign=\"top\">108908</th>\n      <th>1049</th>\n      <td>2021-10-21 20:10:09</td>\n      <td>politics</td>\n      <td>9.356786</td>\n      <td>0.354618</td>\n      <td>0.000203</td>\n      <td>6</td>\n      <td>0.381299</td>\n      <td>0.416364</td>\n      <td>0.401152</td>\n      <td>0.383118</td>\n      <td>...</td>\n      <td>0</td>\n      <td>25</td>\n      <td>Russia</td>\n      <td>Moscow</td>\n      <td>2</td>\n      <td>iOS</td>\n      <td>organic</td>\n      <td>0</td>\n      <td>20</td>\n      <td>0</td>\n    </tr>\n    <tr>\n      <th>4724</th>\n      <td>2021-10-21 20:15:52</td>\n      <td>movie</td>\n      <td>5.893446</td>\n      <td>0.401411</td>\n      <td>0.000128</td>\n      <td>4</td>\n      <td>0.342960</td>\n      <td>0.278021</td>\n      <td>0.356239</td>\n      <td>0.382379</td>\n      <td>...</td>\n      <td>0</td>\n      <td>25</td>\n      <td>Russia</td>\n      <td>Moscow</td>\n      <td>2</td>\n      <td>iOS</td>\n      <td>organic</td>\n      <td>0</td>\n      <td>20</td>\n      <td>1</td>\n    </tr>\n    <tr>\n      <th>1091</th>\n      <td>2021-10-21 20:15:54</td>\n      <td>politics</td>\n      <td>9.732873</td>\n      <td>0.604797</td>\n      <td>0.000212</td>\n      <td>6</td>\n      <td>0.332922</td>\n      <td>0.367044</td>\n      <td>0.333849</td>\n      <td>0.358410</td>\n      <td>...</td>\n      <td>0</td>\n      <td>25</td>\n      <td>Russia</td>\n      <td>Moscow</td>\n      <td>2</td>\n      <td>iOS</td>\n      <td>organic</td>\n      <td>0</td>\n      <td>20</td>\n      <td>0</td>\n    </tr>\n    <tr>\n      <th>3086</th>\n      <td>2021-10-21 20:17:38</td>\n      <td>covid</td>\n      <td>3.238184</td>\n      <td>0.452428</td>\n      <td>0.000070</td>\n      <td>2</td>\n      <td>0.293016</td>\n      <td>0.306961</td>\n      <td>0.056760</td>\n      <td>0.324757</td>\n      <td>...</td>\n      <td>0</td>\n      <td>25</td>\n      <td>Russia</td>\n      <td>Moscow</td>\n      <td>2</td>\n      <td>iOS</td>\n      <td>organic</td>\n      <td>0</td>\n      <td>20</td>\n      <td>0</td>\n    </tr>\n    <tr>\n      <th>3575</th>\n      <td>2021-10-21 20:20:25</td>\n      <td>covid</td>\n      <td>3.134135</td>\n      <td>0.440139</td>\n      <td>0.000068</td>\n      <td>2</td>\n      <td>0.245324</td>\n      <td>0.263387</td>\n      <td>0.068991</td>\n      <td>0.272571</td>\n      <td>...</td>\n      <td>0</td>\n      <td>25</td>\n      <td>Russia</td>\n      <td>Moscow</td>\n      <td>2</td>\n      <td>iOS</td>\n      <td>organic</td>\n      <td>0</td>\n      <td>20</td>\n      <td>0</td>\n    </tr>\n  </tbody>\n</table>\n<p>8929757 rows × 26 columns</p>\n</div>"
     },
     "execution_count": 42,
     "metadata": {},
     "output_type": "execute_result"
    }
   ],
   "source": [
    "data['weekend'] = 0\n",
    "data.loc[pd.to_datetime(data.timestamp).dt.dayofweek > 5, 'weekend'] = 1\n",
    "data['hour'] = pd.to_datetime(data.timestamp).dt.hour\n",
    "data.insert(len(data.columns) - 1, 'target', data.pop('target'))\n",
    "data"
   ],
   "metadata": {
    "collapsed": false,
    "ExecuteTime": {
     "end_time": "2023-09-04T07:12:30.906652200Z",
     "start_time": "2023-09-04T07:12:15.035895400Z"
    }
   }
  },
  {
   "cell_type": "code",
   "execution_count": null,
   "outputs": [],
   "source": [
    "max(data.timestamp), min(data.timestamp)"
   ],
   "metadata": {
    "collapsed": false
   }
  },
  {
   "cell_type": "markdown",
   "source": [
    "# Catboost training"
   ],
   "metadata": {
    "collapsed": false
   }
  },
  {
   "cell_type": "code",
   "execution_count": 44,
   "outputs": [
    {
     "data": {
      "text/plain": "0.1970230544907325"
     },
     "execution_count": 44,
     "metadata": {},
     "output_type": "execute_result"
    }
   ],
   "source": [
    "# Train/test split based on date\n",
    "df_train = data[data.timestamp < '2021-12-12']\n",
    "df_test = data[data.timestamp >= '2021-12-12']\n",
    "\n",
    "df_train = df_train.drop('timestamp', axis=1)\n",
    "df_test = df_test.drop('timestamp', axis=1)\n",
    "\n",
    "X_train = df_train.drop('target', axis=1)\n",
    "X_test = df_test.drop('target', axis=1)\n",
    "\n",
    "y_train = df_train['target']\n",
    "y_test = df_test['target']\n",
    "\n",
    "y_test.shape[0] / feed_data.shape[0]"
   ],
   "metadata": {
    "collapsed": false,
    "ExecuteTime": {
     "end_time": "2023-09-04T07:12:36.223989Z",
     "start_time": "2023-09-04T07:12:32.164030900Z"
    }
   }
  },
  {
   "cell_type": "code",
   "execution_count": 45,
   "outputs": [
    {
     "data": {
      "text/plain": "                    topic  TotalTfIdf  MaxTfIdf  MeanTfIdf  TextCluster  \\\nuser_id post_id                                                           \n115699  5891        movie    9.295552  0.372350   0.000202            4   \n        3722        covid    3.334907  0.377945   0.000072            2   \n        1806        sport   11.597768  0.333857   0.000252            0   \n        34       business    9.813704  0.274861   0.000213            7   \n        3335        covid    2.729815  0.501286   0.000059            2   \n...                   ...         ...       ...        ...          ...   \n108908  1049     politics    9.356786  0.354618   0.000203            6   \n        4724        movie    5.893446  0.401411   0.000128            4   \n        1091     politics    9.732873  0.604797   0.000212            6   \n        3086        covid    3.238184  0.452428   0.000070            2   \n        3575        covid    3.134135  0.440139   0.000068            2   \n\n                 DistanceTo1thCluster  DistanceTo2thCluster  \\\nuser_id post_id                                               \n115699  5891                 0.273415              0.186306   \n        3722                 0.252464              0.280438   \n        1806                 0.106828              0.260252   \n        34                   0.322322              0.342413   \n        3335                 0.320389              0.326815   \n...                               ...                   ...   \n108908  1049                 0.381299              0.416364   \n        4724                 0.342960              0.278021   \n        1091                 0.332922              0.367044   \n        3086                 0.293016              0.306961   \n        3575                 0.245324              0.263387   \n\n                 DistanceTo3thCluster  DistanceTo4thCluster  \\\nuser_id post_id                                               \n115699  5891                 0.294690              0.323835   \n        3722                 0.052103              0.300293   \n        1806                 0.238966              0.292623   \n        34                   0.314194              0.301182   \n        3335                 0.099675              0.332633   \n...                               ...                   ...   \n108908  1049                 0.401152              0.383118   \n        4724                 0.356239              0.382379   \n        1091                 0.333849              0.358410   \n        3086                 0.056760              0.324757   \n        3575                 0.068991              0.272571   \n\n                 DistanceTo5thCluster  ...  DistanceTo10thCluster  gender  \\\nuser_id post_id                        ...                                  \n115699  5891                 0.123434  ...               0.424216       0   \n        3722                 0.303800  ...               0.410573       0   \n        1806                 0.289698  ...               0.388291       0   \n        34                   0.367904  ...               0.431956       0   \n        3335                 0.349299  ...               0.446397       0   \n...                               ...  ...                    ...     ...   \n108908  1049                 0.436848  ...               0.495987       0   \n        4724                 0.177550  ...               0.463016       0   \n        1091                 0.392495  ...               0.463956       0   \n        3086                 0.334839  ...               0.431764       0   \n        3575                 0.293653  ...               0.396480       0   \n\n                 age  country       city  exp_group       os   source weekend  \\\nuser_id post_id                                                                 \n115699  5891      17   Russia  Yaroslavl          4  Android  organic       0   \n        3722      17   Russia  Yaroslavl          4  Android  organic       0   \n        1806      17   Russia  Yaroslavl          4  Android  organic       0   \n        34        17   Russia  Yaroslavl          4  Android  organic       0   \n        3335      17   Russia  Yaroslavl          4  Android  organic       0   \n...              ...      ...        ...        ...      ...      ...     ...   \n108908  1049      25   Russia     Moscow          2      iOS  organic       0   \n        4724      25   Russia     Moscow          2      iOS  organic       0   \n        1091      25   Russia     Moscow          2      iOS  organic       0   \n        3086      25   Russia     Moscow          2      iOS  organic       0   \n        3575      25   Russia     Moscow          2      iOS  organic       0   \n\n                 hour  \nuser_id post_id        \n115699  5891       15  \n        3722       15  \n        1806       15  \n        34         15  \n        3335       15  \n...               ...  \n108908  1049       20  \n        4724       20  \n        1091       20  \n        3086       20  \n        3575       20  \n\n[7170389 rows x 24 columns]",
      "text/html": "<div>\n<style scoped>\n    .dataframe tbody tr th:only-of-type {\n        vertical-align: middle;\n    }\n\n    .dataframe tbody tr th {\n        vertical-align: top;\n    }\n\n    .dataframe thead th {\n        text-align: right;\n    }\n</style>\n<table border=\"1\" class=\"dataframe\">\n  <thead>\n    <tr style=\"text-align: right;\">\n      <th></th>\n      <th></th>\n      <th>topic</th>\n      <th>TotalTfIdf</th>\n      <th>MaxTfIdf</th>\n      <th>MeanTfIdf</th>\n      <th>TextCluster</th>\n      <th>DistanceTo1thCluster</th>\n      <th>DistanceTo2thCluster</th>\n      <th>DistanceTo3thCluster</th>\n      <th>DistanceTo4thCluster</th>\n      <th>DistanceTo5thCluster</th>\n      <th>...</th>\n      <th>DistanceTo10thCluster</th>\n      <th>gender</th>\n      <th>age</th>\n      <th>country</th>\n      <th>city</th>\n      <th>exp_group</th>\n      <th>os</th>\n      <th>source</th>\n      <th>weekend</th>\n      <th>hour</th>\n    </tr>\n    <tr>\n      <th>user_id</th>\n      <th>post_id</th>\n      <th></th>\n      <th></th>\n      <th></th>\n      <th></th>\n      <th></th>\n      <th></th>\n      <th></th>\n      <th></th>\n      <th></th>\n      <th></th>\n      <th></th>\n      <th></th>\n      <th></th>\n      <th></th>\n      <th></th>\n      <th></th>\n      <th></th>\n      <th></th>\n      <th></th>\n      <th></th>\n      <th></th>\n    </tr>\n  </thead>\n  <tbody>\n    <tr>\n      <th rowspan=\"5\" valign=\"top\">115699</th>\n      <th>5891</th>\n      <td>movie</td>\n      <td>9.295552</td>\n      <td>0.372350</td>\n      <td>0.000202</td>\n      <td>4</td>\n      <td>0.273415</td>\n      <td>0.186306</td>\n      <td>0.294690</td>\n      <td>0.323835</td>\n      <td>0.123434</td>\n      <td>...</td>\n      <td>0.424216</td>\n      <td>0</td>\n      <td>17</td>\n      <td>Russia</td>\n      <td>Yaroslavl</td>\n      <td>4</td>\n      <td>Android</td>\n      <td>organic</td>\n      <td>0</td>\n      <td>15</td>\n    </tr>\n    <tr>\n      <th>3722</th>\n      <td>covid</td>\n      <td>3.334907</td>\n      <td>0.377945</td>\n      <td>0.000072</td>\n      <td>2</td>\n      <td>0.252464</td>\n      <td>0.280438</td>\n      <td>0.052103</td>\n      <td>0.300293</td>\n      <td>0.303800</td>\n      <td>...</td>\n      <td>0.410573</td>\n      <td>0</td>\n      <td>17</td>\n      <td>Russia</td>\n      <td>Yaroslavl</td>\n      <td>4</td>\n      <td>Android</td>\n      <td>organic</td>\n      <td>0</td>\n      <td>15</td>\n    </tr>\n    <tr>\n      <th>1806</th>\n      <td>sport</td>\n      <td>11.597768</td>\n      <td>0.333857</td>\n      <td>0.000252</td>\n      <td>0</td>\n      <td>0.106828</td>\n      <td>0.260252</td>\n      <td>0.238966</td>\n      <td>0.292623</td>\n      <td>0.289698</td>\n      <td>...</td>\n      <td>0.388291</td>\n      <td>0</td>\n      <td>17</td>\n      <td>Russia</td>\n      <td>Yaroslavl</td>\n      <td>4</td>\n      <td>Android</td>\n      <td>organic</td>\n      <td>0</td>\n      <td>15</td>\n    </tr>\n    <tr>\n      <th>34</th>\n      <td>business</td>\n      <td>9.813704</td>\n      <td>0.274861</td>\n      <td>0.000213</td>\n      <td>7</td>\n      <td>0.322322</td>\n      <td>0.342413</td>\n      <td>0.314194</td>\n      <td>0.301182</td>\n      <td>0.367904</td>\n      <td>...</td>\n      <td>0.431956</td>\n      <td>0</td>\n      <td>17</td>\n      <td>Russia</td>\n      <td>Yaroslavl</td>\n      <td>4</td>\n      <td>Android</td>\n      <td>organic</td>\n      <td>0</td>\n      <td>15</td>\n    </tr>\n    <tr>\n      <th>3335</th>\n      <td>covid</td>\n      <td>2.729815</td>\n      <td>0.501286</td>\n      <td>0.000059</td>\n      <td>2</td>\n      <td>0.320389</td>\n      <td>0.326815</td>\n      <td>0.099675</td>\n      <td>0.332633</td>\n      <td>0.349299</td>\n      <td>...</td>\n      <td>0.446397</td>\n      <td>0</td>\n      <td>17</td>\n      <td>Russia</td>\n      <td>Yaroslavl</td>\n      <td>4</td>\n      <td>Android</td>\n      <td>organic</td>\n      <td>0</td>\n      <td>15</td>\n    </tr>\n    <tr>\n      <th>...</th>\n      <th>...</th>\n      <td>...</td>\n      <td>...</td>\n      <td>...</td>\n      <td>...</td>\n      <td>...</td>\n      <td>...</td>\n      <td>...</td>\n      <td>...</td>\n      <td>...</td>\n      <td>...</td>\n      <td>...</td>\n      <td>...</td>\n      <td>...</td>\n      <td>...</td>\n      <td>...</td>\n      <td>...</td>\n      <td>...</td>\n      <td>...</td>\n      <td>...</td>\n      <td>...</td>\n      <td>...</td>\n    </tr>\n    <tr>\n      <th rowspan=\"5\" valign=\"top\">108908</th>\n      <th>1049</th>\n      <td>politics</td>\n      <td>9.356786</td>\n      <td>0.354618</td>\n      <td>0.000203</td>\n      <td>6</td>\n      <td>0.381299</td>\n      <td>0.416364</td>\n      <td>0.401152</td>\n      <td>0.383118</td>\n      <td>0.436848</td>\n      <td>...</td>\n      <td>0.495987</td>\n      <td>0</td>\n      <td>25</td>\n      <td>Russia</td>\n      <td>Moscow</td>\n      <td>2</td>\n      <td>iOS</td>\n      <td>organic</td>\n      <td>0</td>\n      <td>20</td>\n    </tr>\n    <tr>\n      <th>4724</th>\n      <td>movie</td>\n      <td>5.893446</td>\n      <td>0.401411</td>\n      <td>0.000128</td>\n      <td>4</td>\n      <td>0.342960</td>\n      <td>0.278021</td>\n      <td>0.356239</td>\n      <td>0.382379</td>\n      <td>0.177550</td>\n      <td>...</td>\n      <td>0.463016</td>\n      <td>0</td>\n      <td>25</td>\n      <td>Russia</td>\n      <td>Moscow</td>\n      <td>2</td>\n      <td>iOS</td>\n      <td>organic</td>\n      <td>0</td>\n      <td>20</td>\n    </tr>\n    <tr>\n      <th>1091</th>\n      <td>politics</td>\n      <td>9.732873</td>\n      <td>0.604797</td>\n      <td>0.000212</td>\n      <td>6</td>\n      <td>0.332922</td>\n      <td>0.367044</td>\n      <td>0.333849</td>\n      <td>0.358410</td>\n      <td>0.392495</td>\n      <td>...</td>\n      <td>0.463956</td>\n      <td>0</td>\n      <td>25</td>\n      <td>Russia</td>\n      <td>Moscow</td>\n      <td>2</td>\n      <td>iOS</td>\n      <td>organic</td>\n      <td>0</td>\n      <td>20</td>\n    </tr>\n    <tr>\n      <th>3086</th>\n      <td>covid</td>\n      <td>3.238184</td>\n      <td>0.452428</td>\n      <td>0.000070</td>\n      <td>2</td>\n      <td>0.293016</td>\n      <td>0.306961</td>\n      <td>0.056760</td>\n      <td>0.324757</td>\n      <td>0.334839</td>\n      <td>...</td>\n      <td>0.431764</td>\n      <td>0</td>\n      <td>25</td>\n      <td>Russia</td>\n      <td>Moscow</td>\n      <td>2</td>\n      <td>iOS</td>\n      <td>organic</td>\n      <td>0</td>\n      <td>20</td>\n    </tr>\n    <tr>\n      <th>3575</th>\n      <td>covid</td>\n      <td>3.134135</td>\n      <td>0.440139</td>\n      <td>0.000068</td>\n      <td>2</td>\n      <td>0.245324</td>\n      <td>0.263387</td>\n      <td>0.068991</td>\n      <td>0.272571</td>\n      <td>0.293653</td>\n      <td>...</td>\n      <td>0.396480</td>\n      <td>0</td>\n      <td>25</td>\n      <td>Russia</td>\n      <td>Moscow</td>\n      <td>2</td>\n      <td>iOS</td>\n      <td>organic</td>\n      <td>0</td>\n      <td>20</td>\n    </tr>\n  </tbody>\n</table>\n<p>7170389 rows × 24 columns</p>\n</div>"
     },
     "execution_count": 45,
     "metadata": {},
     "output_type": "execute_result"
    }
   ],
   "source": [
    "X_train"
   ],
   "metadata": {
    "collapsed": false,
    "ExecuteTime": {
     "end_time": "2023-09-04T07:12:40.021838800Z",
     "start_time": "2023-09-04T07:12:36.222977300Z"
    }
   }
  },
  {
   "cell_type": "code",
   "execution_count": 46,
   "outputs": [],
   "source": [
    "object_cols = [\n",
    "    'topic', 'TextCluster', 'gender', 'country',\n",
    "    'city', 'exp_group', 'os', 'source',\n",
    "    'weekend', 'hour'\n",
    "]"
   ],
   "metadata": {
    "collapsed": false,
    "ExecuteTime": {
     "end_time": "2023-09-04T07:12:40.040877800Z",
     "start_time": "2023-09-04T07:12:40.021838800Z"
    }
   }
  },
  {
   "cell_type": "code",
   "execution_count": 48,
   "outputs": [
    {
     "name": "stdout",
     "output_type": "stream",
     "text": [
      "0:\tlearn: 0.3526883\ttotal: 164ms\tremaining: 2m 43s\n",
      "1:\tlearn: 0.3469343\ttotal: 309ms\tremaining: 2m 34s\n",
      "2:\tlearn: 0.3460925\ttotal: 427ms\tremaining: 2m 21s\n",
      "3:\tlearn: 0.3455764\ttotal: 553ms\tremaining: 2m 17s\n",
      "4:\tlearn: 0.3453323\ttotal: 679ms\tremaining: 2m 15s\n",
      "5:\tlearn: 0.3448874\ttotal: 816ms\tremaining: 2m 15s\n",
      "6:\tlearn: 0.3448091\ttotal: 945ms\tremaining: 2m 14s\n",
      "7:\tlearn: 0.3442971\ttotal: 1.07s\tremaining: 2m 13s\n",
      "8:\tlearn: 0.3442447\ttotal: 1.21s\tremaining: 2m 13s\n",
      "9:\tlearn: 0.3441287\ttotal: 1.35s\tremaining: 2m 14s\n",
      "10:\tlearn: 0.3438032\ttotal: 1.48s\tremaining: 2m 13s\n",
      "11:\tlearn: 0.3431573\ttotal: 1.61s\tremaining: 2m 12s\n",
      "12:\tlearn: 0.3430767\ttotal: 1.74s\tremaining: 2m 11s\n",
      "13:\tlearn: 0.3430015\ttotal: 1.89s\tremaining: 2m 13s\n",
      "14:\tlearn: 0.3429569\ttotal: 2.06s\tremaining: 2m 15s\n",
      "15:\tlearn: 0.3420545\ttotal: 2.18s\tremaining: 2m 14s\n",
      "16:\tlearn: 0.3419288\ttotal: 2.31s\tremaining: 2m 13s\n",
      "17:\tlearn: 0.3415843\ttotal: 2.43s\tremaining: 2m 12s\n",
      "18:\tlearn: 0.3414100\ttotal: 2.56s\tremaining: 2m 12s\n",
      "19:\tlearn: 0.3411519\ttotal: 2.71s\tremaining: 2m 12s\n",
      "20:\tlearn: 0.3410593\ttotal: 2.84s\tremaining: 2m 12s\n",
      "21:\tlearn: 0.3408990\ttotal: 2.97s\tremaining: 2m 11s\n",
      "22:\tlearn: 0.3408045\ttotal: 3.09s\tremaining: 2m 11s\n",
      "23:\tlearn: 0.3407614\ttotal: 3.24s\tremaining: 2m 11s\n",
      "24:\tlearn: 0.3407077\ttotal: 3.38s\tremaining: 2m 11s\n",
      "25:\tlearn: 0.3406175\ttotal: 3.51s\tremaining: 2m 11s\n",
      "26:\tlearn: 0.3405570\ttotal: 3.63s\tremaining: 2m 10s\n",
      "27:\tlearn: 0.3404801\ttotal: 3.77s\tremaining: 2m 10s\n",
      "28:\tlearn: 0.3404372\ttotal: 3.94s\tremaining: 2m 12s\n",
      "29:\tlearn: 0.3404111\ttotal: 4.08s\tremaining: 2m 11s\n",
      "30:\tlearn: 0.3404001\ttotal: 4.21s\tremaining: 2m 11s\n",
      "31:\tlearn: 0.3403772\ttotal: 4.33s\tremaining: 2m 11s\n",
      "32:\tlearn: 0.3403575\ttotal: 4.46s\tremaining: 2m 10s\n",
      "33:\tlearn: 0.3403227\ttotal: 4.58s\tremaining: 2m 10s\n",
      "34:\tlearn: 0.3401922\ttotal: 4.7s\tremaining: 2m 9s\n",
      "35:\tlearn: 0.3401634\ttotal: 4.83s\tremaining: 2m 9s\n",
      "36:\tlearn: 0.3401423\ttotal: 4.96s\tremaining: 2m 9s\n",
      "37:\tlearn: 0.3401256\ttotal: 5.09s\tremaining: 2m 8s\n",
      "38:\tlearn: 0.3400605\ttotal: 5.22s\tremaining: 2m 8s\n",
      "39:\tlearn: 0.3400406\ttotal: 5.36s\tremaining: 2m 8s\n",
      "40:\tlearn: 0.3399938\ttotal: 5.49s\tremaining: 2m 8s\n",
      "41:\tlearn: 0.3399544\ttotal: 5.61s\tremaining: 2m 7s\n",
      "42:\tlearn: 0.3399059\ttotal: 5.73s\tremaining: 2m 7s\n",
      "43:\tlearn: 0.3398994\ttotal: 5.86s\tremaining: 2m 7s\n",
      "44:\tlearn: 0.3398286\ttotal: 5.98s\tremaining: 2m 6s\n",
      "45:\tlearn: 0.3397962\ttotal: 6.11s\tremaining: 2m 6s\n",
      "46:\tlearn: 0.3397796\ttotal: 6.26s\tremaining: 2m 7s\n",
      "47:\tlearn: 0.3397589\ttotal: 6.39s\tremaining: 2m 6s\n",
      "48:\tlearn: 0.3395732\ttotal: 6.51s\tremaining: 2m 6s\n",
      "49:\tlearn: 0.3395281\ttotal: 6.63s\tremaining: 2m 6s\n",
      "50:\tlearn: 0.3395140\ttotal: 6.76s\tremaining: 2m 5s\n",
      "51:\tlearn: 0.3395081\ttotal: 6.93s\tremaining: 2m 6s\n",
      "52:\tlearn: 0.3394951\ttotal: 7.06s\tremaining: 2m 6s\n",
      "53:\tlearn: 0.3394821\ttotal: 7.19s\tremaining: 2m 5s\n",
      "54:\tlearn: 0.3394629\ttotal: 7.32s\tremaining: 2m 5s\n",
      "55:\tlearn: 0.3394173\ttotal: 7.44s\tremaining: 2m 5s\n",
      "56:\tlearn: 0.3394049\ttotal: 7.57s\tremaining: 2m 5s\n",
      "57:\tlearn: 0.3393714\ttotal: 7.7s\tremaining: 2m 5s\n",
      "58:\tlearn: 0.3393549\ttotal: 7.82s\tremaining: 2m 4s\n",
      "59:\tlearn: 0.3393475\ttotal: 7.95s\tremaining: 2m 4s\n",
      "60:\tlearn: 0.3393424\ttotal: 8.07s\tremaining: 2m 4s\n",
      "61:\tlearn: 0.3393159\ttotal: 8.19s\tremaining: 2m 3s\n",
      "62:\tlearn: 0.3392981\ttotal: 8.31s\tremaining: 2m 3s\n",
      "63:\tlearn: 0.3392751\ttotal: 8.48s\tremaining: 2m 3s\n",
      "64:\tlearn: 0.3392320\ttotal: 8.62s\tremaining: 2m 3s\n",
      "65:\tlearn: 0.3392105\ttotal: 8.74s\tremaining: 2m 3s\n",
      "66:\tlearn: 0.3392001\ttotal: 8.88s\tremaining: 2m 3s\n",
      "67:\tlearn: 0.3391852\ttotal: 9.01s\tremaining: 2m 3s\n",
      "68:\tlearn: 0.3391764\ttotal: 9.14s\tremaining: 2m 3s\n",
      "69:\tlearn: 0.3391734\ttotal: 9.26s\tremaining: 2m 3s\n",
      "70:\tlearn: 0.3391544\ttotal: 9.39s\tremaining: 2m 2s\n",
      "71:\tlearn: 0.3391460\ttotal: 9.52s\tremaining: 2m 2s\n",
      "72:\tlearn: 0.3391292\ttotal: 9.65s\tremaining: 2m 2s\n",
      "73:\tlearn: 0.3391262\ttotal: 9.8s\tremaining: 2m 2s\n",
      "74:\tlearn: 0.3391217\ttotal: 9.95s\tremaining: 2m 2s\n",
      "75:\tlearn: 0.3391106\ttotal: 10.1s\tremaining: 2m 2s\n",
      "76:\tlearn: 0.3390998\ttotal: 10.2s\tremaining: 2m 2s\n",
      "77:\tlearn: 0.3390935\ttotal: 10.3s\tremaining: 2m 2s\n",
      "78:\tlearn: 0.3390222\ttotal: 10.4s\tremaining: 2m 1s\n",
      "79:\tlearn: 0.3390125\ttotal: 10.6s\tremaining: 2m 1s\n",
      "80:\tlearn: 0.3389927\ttotal: 10.7s\tremaining: 2m 1s\n",
      "81:\tlearn: 0.3389783\ttotal: 10.8s\tremaining: 2m 1s\n",
      "82:\tlearn: 0.3389695\ttotal: 10.9s\tremaining: 2m\n",
      "83:\tlearn: 0.3389523\ttotal: 11.1s\tremaining: 2m\n",
      "84:\tlearn: 0.3389405\ttotal: 11.2s\tremaining: 2m\n",
      "85:\tlearn: 0.3389277\ttotal: 11.3s\tremaining: 2m\n",
      "86:\tlearn: 0.3389133\ttotal: 11.5s\tremaining: 2m\n",
      "87:\tlearn: 0.3389007\ttotal: 11.6s\tremaining: 2m\n",
      "88:\tlearn: 0.3388931\ttotal: 11.7s\tremaining: 1m 59s\n",
      "89:\tlearn: 0.3388712\ttotal: 11.8s\tremaining: 1m 59s\n",
      "90:\tlearn: 0.3388605\ttotal: 12s\tremaining: 1m 59s\n",
      "91:\tlearn: 0.3388505\ttotal: 12.1s\tremaining: 1m 59s\n",
      "92:\tlearn: 0.3388401\ttotal: 12.2s\tremaining: 1m 58s\n",
      "93:\tlearn: 0.3388296\ttotal: 12.3s\tremaining: 1m 58s\n",
      "94:\tlearn: 0.3388197\ttotal: 12.4s\tremaining: 1m 58s\n",
      "95:\tlearn: 0.3388107\ttotal: 12.6s\tremaining: 1m 58s\n",
      "96:\tlearn: 0.3387960\ttotal: 12.7s\tremaining: 1m 58s\n",
      "97:\tlearn: 0.3387727\ttotal: 12.8s\tremaining: 1m 58s\n",
      "98:\tlearn: 0.3387666\ttotal: 13s\tremaining: 1m 57s\n",
      "99:\tlearn: 0.3387581\ttotal: 13.1s\tremaining: 1m 57s\n",
      "100:\tlearn: 0.3387526\ttotal: 13.2s\tremaining: 1m 57s\n",
      "101:\tlearn: 0.3387470\ttotal: 13.3s\tremaining: 1m 57s\n",
      "102:\tlearn: 0.3387370\ttotal: 13.5s\tremaining: 1m 57s\n",
      "103:\tlearn: 0.3387318\ttotal: 13.6s\tremaining: 1m 57s\n",
      "104:\tlearn: 0.3387283\ttotal: 13.7s\tremaining: 1m 56s\n",
      "105:\tlearn: 0.3387218\ttotal: 13.8s\tremaining: 1m 56s\n",
      "106:\tlearn: 0.3387215\ttotal: 14s\tremaining: 1m 56s\n",
      "107:\tlearn: 0.3387144\ttotal: 14.1s\tremaining: 1m 56s\n",
      "108:\tlearn: 0.3387078\ttotal: 14.2s\tremaining: 1m 56s\n",
      "109:\tlearn: 0.3386756\ttotal: 14.4s\tremaining: 1m 56s\n",
      "110:\tlearn: 0.3386689\ttotal: 14.6s\tremaining: 1m 56s\n",
      "111:\tlearn: 0.3386486\ttotal: 14.7s\tremaining: 1m 56s\n",
      "112:\tlearn: 0.3386430\ttotal: 14.8s\tremaining: 1m 56s\n",
      "113:\tlearn: 0.3386382\ttotal: 15s\tremaining: 1m 56s\n",
      "114:\tlearn: 0.3386348\ttotal: 15.1s\tremaining: 1m 56s\n",
      "115:\tlearn: 0.3386266\ttotal: 15.3s\tremaining: 1m 56s\n",
      "116:\tlearn: 0.3386211\ttotal: 15.4s\tremaining: 1m 56s\n",
      "117:\tlearn: 0.3385821\ttotal: 15.6s\tremaining: 1m 56s\n",
      "118:\tlearn: 0.3385631\ttotal: 15.7s\tremaining: 1m 56s\n",
      "119:\tlearn: 0.3385589\ttotal: 15.8s\tremaining: 1m 56s\n",
      "120:\tlearn: 0.3385521\ttotal: 16s\tremaining: 1m 56s\n",
      "121:\tlearn: 0.3385383\ttotal: 16.1s\tremaining: 1m 55s\n",
      "122:\tlearn: 0.3385313\ttotal: 16.2s\tremaining: 1m 55s\n",
      "123:\tlearn: 0.3385161\ttotal: 16.4s\tremaining: 1m 55s\n",
      "124:\tlearn: 0.3385147\ttotal: 16.5s\tremaining: 1m 55s\n",
      "125:\tlearn: 0.3385048\ttotal: 16.6s\tremaining: 1m 55s\n",
      "126:\tlearn: 0.3384788\ttotal: 16.8s\tremaining: 1m 55s\n",
      "127:\tlearn: 0.3384694\ttotal: 16.9s\tremaining: 1m 55s\n",
      "128:\tlearn: 0.3384644\ttotal: 17s\tremaining: 1m 54s\n",
      "129:\tlearn: 0.3384559\ttotal: 17.1s\tremaining: 1m 54s\n",
      "130:\tlearn: 0.3384480\ttotal: 17.3s\tremaining: 1m 54s\n",
      "131:\tlearn: 0.3384413\ttotal: 17.4s\tremaining: 1m 54s\n",
      "132:\tlearn: 0.3384326\ttotal: 17.5s\tremaining: 1m 54s\n",
      "133:\tlearn: 0.3384274\ttotal: 17.7s\tremaining: 1m 54s\n",
      "134:\tlearn: 0.3384233\ttotal: 17.8s\tremaining: 1m 53s\n",
      "135:\tlearn: 0.3384153\ttotal: 17.9s\tremaining: 1m 53s\n",
      "136:\tlearn: 0.3384071\ttotal: 18s\tremaining: 1m 53s\n",
      "137:\tlearn: 0.3383986\ttotal: 18.2s\tremaining: 1m 53s\n",
      "138:\tlearn: 0.3383637\ttotal: 18.3s\tremaining: 1m 53s\n",
      "139:\tlearn: 0.3383536\ttotal: 18.4s\tremaining: 1m 53s\n",
      "140:\tlearn: 0.3383473\ttotal: 18.5s\tremaining: 1m 52s\n",
      "141:\tlearn: 0.3383374\ttotal: 18.7s\tremaining: 1m 52s\n",
      "142:\tlearn: 0.3383244\ttotal: 18.8s\tremaining: 1m 52s\n",
      "143:\tlearn: 0.3383175\ttotal: 18.9s\tremaining: 1m 52s\n",
      "144:\tlearn: 0.3383072\ttotal: 19s\tremaining: 1m 52s\n",
      "145:\tlearn: 0.3382986\ttotal: 19.2s\tremaining: 1m 52s\n",
      "146:\tlearn: 0.3382877\ttotal: 19.3s\tremaining: 1m 51s\n",
      "147:\tlearn: 0.3382812\ttotal: 19.4s\tremaining: 1m 51s\n",
      "148:\tlearn: 0.3382771\ttotal: 19.5s\tremaining: 1m 51s\n",
      "149:\tlearn: 0.3382725\ttotal: 19.7s\tremaining: 1m 51s\n",
      "150:\tlearn: 0.3382663\ttotal: 19.8s\tremaining: 1m 51s\n",
      "151:\tlearn: 0.3382189\ttotal: 19.9s\tremaining: 1m 51s\n",
      "152:\tlearn: 0.3382137\ttotal: 20s\tremaining: 1m 50s\n",
      "153:\tlearn: 0.3382070\ttotal: 20.2s\tremaining: 1m 50s\n",
      "154:\tlearn: 0.3382034\ttotal: 20.3s\tremaining: 1m 50s\n",
      "155:\tlearn: 0.3381853\ttotal: 20.4s\tremaining: 1m 50s\n",
      "156:\tlearn: 0.3381818\ttotal: 20.5s\tremaining: 1m 50s\n",
      "157:\tlearn: 0.3381776\ttotal: 20.7s\tremaining: 1m 50s\n",
      "158:\tlearn: 0.3381738\ttotal: 20.8s\tremaining: 1m 49s\n",
      "159:\tlearn: 0.3381679\ttotal: 20.9s\tremaining: 1m 49s\n",
      "160:\tlearn: 0.3381645\ttotal: 21s\tremaining: 1m 49s\n",
      "161:\tlearn: 0.3381525\ttotal: 21.2s\tremaining: 1m 49s\n",
      "162:\tlearn: 0.3381366\ttotal: 21.3s\tremaining: 1m 49s\n",
      "163:\tlearn: 0.3381301\ttotal: 21.4s\tremaining: 1m 49s\n",
      "164:\tlearn: 0.3381260\ttotal: 21.6s\tremaining: 1m 49s\n",
      "165:\tlearn: 0.3381209\ttotal: 21.7s\tremaining: 1m 48s\n",
      "166:\tlearn: 0.3381189\ttotal: 21.8s\tremaining: 1m 48s\n",
      "167:\tlearn: 0.3381119\ttotal: 21.9s\tremaining: 1m 48s\n",
      "168:\tlearn: 0.3381074\ttotal: 22.1s\tremaining: 1m 48s\n",
      "169:\tlearn: 0.3380864\ttotal: 22.2s\tremaining: 1m 48s\n",
      "170:\tlearn: 0.3380803\ttotal: 22.3s\tremaining: 1m 48s\n",
      "171:\tlearn: 0.3380721\ttotal: 22.4s\tremaining: 1m 47s\n",
      "172:\tlearn: 0.3380665\ttotal: 22.5s\tremaining: 1m 47s\n",
      "173:\tlearn: 0.3380630\ttotal: 22.7s\tremaining: 1m 47s\n",
      "174:\tlearn: 0.3380547\ttotal: 22.8s\tremaining: 1m 47s\n",
      "175:\tlearn: 0.3380420\ttotal: 22.9s\tremaining: 1m 47s\n",
      "176:\tlearn: 0.3380384\ttotal: 23.1s\tremaining: 1m 47s\n",
      "177:\tlearn: 0.3380331\ttotal: 23.2s\tremaining: 1m 47s\n",
      "178:\tlearn: 0.3380280\ttotal: 23.3s\tremaining: 1m 46s\n",
      "179:\tlearn: 0.3380278\ttotal: 23.5s\tremaining: 1m 46s\n",
      "180:\tlearn: 0.3380230\ttotal: 23.6s\tremaining: 1m 46s\n",
      "181:\tlearn: 0.3380166\ttotal: 23.7s\tremaining: 1m 46s\n",
      "182:\tlearn: 0.3380135\ttotal: 23.8s\tremaining: 1m 46s\n",
      "183:\tlearn: 0.3380006\ttotal: 24s\tremaining: 1m 46s\n",
      "184:\tlearn: 0.3379955\ttotal: 24.1s\tremaining: 1m 46s\n",
      "185:\tlearn: 0.3379947\ttotal: 24.2s\tremaining: 1m 45s\n",
      "186:\tlearn: 0.3379880\ttotal: 24.3s\tremaining: 1m 45s\n",
      "187:\tlearn: 0.3379786\ttotal: 24.5s\tremaining: 1m 45s\n",
      "188:\tlearn: 0.3379756\ttotal: 24.6s\tremaining: 1m 45s\n",
      "189:\tlearn: 0.3379692\ttotal: 24.7s\tremaining: 1m 45s\n",
      "190:\tlearn: 0.3379642\ttotal: 24.8s\tremaining: 1m 45s\n",
      "191:\tlearn: 0.3379597\ttotal: 25s\tremaining: 1m 45s\n",
      "192:\tlearn: 0.3379408\ttotal: 25.2s\tremaining: 1m 45s\n",
      "193:\tlearn: 0.3379374\ttotal: 25.3s\tremaining: 1m 45s\n",
      "194:\tlearn: 0.3379370\ttotal: 25.4s\tremaining: 1m 45s\n",
      "195:\tlearn: 0.3379339\ttotal: 25.6s\tremaining: 1m 44s\n",
      "196:\tlearn: 0.3379264\ttotal: 25.7s\tremaining: 1m 44s\n",
      "197:\tlearn: 0.3379193\ttotal: 25.8s\tremaining: 1m 44s\n",
      "198:\tlearn: 0.3379117\ttotal: 25.9s\tremaining: 1m 44s\n",
      "199:\tlearn: 0.3379082\ttotal: 26.1s\tremaining: 1m 44s\n",
      "200:\tlearn: 0.3378584\ttotal: 26.2s\tremaining: 1m 44s\n",
      "201:\tlearn: 0.3378521\ttotal: 26.3s\tremaining: 1m 43s\n",
      "202:\tlearn: 0.3378477\ttotal: 26.4s\tremaining: 1m 43s\n",
      "203:\tlearn: 0.3378402\ttotal: 26.6s\tremaining: 1m 43s\n",
      "204:\tlearn: 0.3378366\ttotal: 26.7s\tremaining: 1m 43s\n",
      "205:\tlearn: 0.3378318\ttotal: 26.8s\tremaining: 1m 43s\n",
      "206:\tlearn: 0.3378222\ttotal: 26.9s\tremaining: 1m 43s\n",
      "207:\tlearn: 0.3378198\ttotal: 27.1s\tremaining: 1m 43s\n",
      "208:\tlearn: 0.3378124\ttotal: 27.2s\tremaining: 1m 42s\n",
      "209:\tlearn: 0.3378068\ttotal: 27.4s\tremaining: 1m 43s\n",
      "210:\tlearn: 0.3377930\ttotal: 27.6s\tremaining: 1m 43s\n",
      "211:\tlearn: 0.3377845\ttotal: 27.7s\tremaining: 1m 42s\n",
      "212:\tlearn: 0.3377813\ttotal: 27.8s\tremaining: 1m 42s\n",
      "213:\tlearn: 0.3377746\ttotal: 27.9s\tremaining: 1m 42s\n",
      "214:\tlearn: 0.3377693\ttotal: 28.1s\tremaining: 1m 42s\n",
      "215:\tlearn: 0.3377637\ttotal: 28.2s\tremaining: 1m 42s\n",
      "216:\tlearn: 0.3377420\ttotal: 28.3s\tremaining: 1m 42s\n",
      "217:\tlearn: 0.3377368\ttotal: 28.4s\tremaining: 1m 41s\n",
      "218:\tlearn: 0.3377163\ttotal: 28.5s\tremaining: 1m 41s\n",
      "219:\tlearn: 0.3377152\ttotal: 28.7s\tremaining: 1m 41s\n",
      "220:\tlearn: 0.3377138\ttotal: 28.8s\tremaining: 1m 41s\n",
      "221:\tlearn: 0.3377110\ttotal: 28.9s\tremaining: 1m 41s\n",
      "222:\tlearn: 0.3377095\ttotal: 29.1s\tremaining: 1m 41s\n",
      "223:\tlearn: 0.3377063\ttotal: 29.2s\tremaining: 1m 41s\n",
      "224:\tlearn: 0.3376992\ttotal: 29.3s\tremaining: 1m 41s\n",
      "225:\tlearn: 0.3376946\ttotal: 29.5s\tremaining: 1m 40s\n",
      "226:\tlearn: 0.3376904\ttotal: 29.6s\tremaining: 1m 40s\n",
      "227:\tlearn: 0.3376824\ttotal: 29.7s\tremaining: 1m 40s\n",
      "228:\tlearn: 0.3376813\ttotal: 29.8s\tremaining: 1m 40s\n",
      "229:\tlearn: 0.3376710\ttotal: 30s\tremaining: 1m 40s\n",
      "230:\tlearn: 0.3376668\ttotal: 30.1s\tremaining: 1m 40s\n",
      "231:\tlearn: 0.3376639\ttotal: 30.2s\tremaining: 1m 40s\n",
      "232:\tlearn: 0.3376595\ttotal: 30.3s\tremaining: 1m 39s\n",
      "233:\tlearn: 0.3376565\ttotal: 30.5s\tremaining: 1m 39s\n",
      "234:\tlearn: 0.3376491\ttotal: 30.6s\tremaining: 1m 39s\n",
      "235:\tlearn: 0.3376443\ttotal: 30.7s\tremaining: 1m 39s\n",
      "236:\tlearn: 0.3376365\ttotal: 30.8s\tremaining: 1m 39s\n",
      "237:\tlearn: 0.3376266\ttotal: 31s\tremaining: 1m 39s\n",
      "238:\tlearn: 0.3376218\ttotal: 31.1s\tremaining: 1m 39s\n",
      "239:\tlearn: 0.3376183\ttotal: 31.2s\tremaining: 1m 38s\n",
      "240:\tlearn: 0.3376116\ttotal: 31.4s\tremaining: 1m 38s\n",
      "241:\tlearn: 0.3376072\ttotal: 31.5s\tremaining: 1m 38s\n",
      "242:\tlearn: 0.3376048\ttotal: 31.6s\tremaining: 1m 38s\n",
      "243:\tlearn: 0.3376015\ttotal: 31.7s\tremaining: 1m 38s\n",
      "244:\tlearn: 0.3375943\ttotal: 31.9s\tremaining: 1m 38s\n",
      "245:\tlearn: 0.3375913\ttotal: 32s\tremaining: 1m 38s\n",
      "246:\tlearn: 0.3375741\ttotal: 32.1s\tremaining: 1m 37s\n",
      "247:\tlearn: 0.3375737\ttotal: 32.2s\tremaining: 1m 37s\n",
      "248:\tlearn: 0.3375699\ttotal: 32.4s\tremaining: 1m 37s\n",
      "249:\tlearn: 0.3375625\ttotal: 32.5s\tremaining: 1m 37s\n",
      "250:\tlearn: 0.3375489\ttotal: 32.6s\tremaining: 1m 37s\n",
      "251:\tlearn: 0.3375465\ttotal: 32.7s\tremaining: 1m 37s\n",
      "252:\tlearn: 0.3375437\ttotal: 32.9s\tremaining: 1m 37s\n",
      "253:\tlearn: 0.3375355\ttotal: 33s\tremaining: 1m 36s\n",
      "254:\tlearn: 0.3375326\ttotal: 33.1s\tremaining: 1m 36s\n",
      "255:\tlearn: 0.3375260\ttotal: 33.2s\tremaining: 1m 36s\n",
      "256:\tlearn: 0.3375227\ttotal: 33.4s\tremaining: 1m 36s\n",
      "257:\tlearn: 0.3375163\ttotal: 33.5s\tremaining: 1m 36s\n",
      "258:\tlearn: 0.3375013\ttotal: 33.6s\tremaining: 1m 36s\n",
      "259:\tlearn: 0.3374960\ttotal: 33.8s\tremaining: 1m 36s\n",
      "260:\tlearn: 0.3374935\ttotal: 33.9s\tremaining: 1m 35s\n",
      "261:\tlearn: 0.3374895\ttotal: 34s\tremaining: 1m 35s\n",
      "262:\tlearn: 0.3374848\ttotal: 34.1s\tremaining: 1m 35s\n",
      "263:\tlearn: 0.3374797\ttotal: 34.2s\tremaining: 1m 35s\n",
      "264:\tlearn: 0.3374786\ttotal: 34.4s\tremaining: 1m 35s\n",
      "265:\tlearn: 0.3374760\ttotal: 34.5s\tremaining: 1m 35s\n",
      "266:\tlearn: 0.3374740\ttotal: 34.6s\tremaining: 1m 35s\n",
      "267:\tlearn: 0.3374735\ttotal: 34.7s\tremaining: 1m 34s\n",
      "268:\tlearn: 0.3374653\ttotal: 34.9s\tremaining: 1m 34s\n",
      "269:\tlearn: 0.3374612\ttotal: 35s\tremaining: 1m 34s\n",
      "270:\tlearn: 0.3374550\ttotal: 35.1s\tremaining: 1m 34s\n",
      "271:\tlearn: 0.3374510\ttotal: 35.2s\tremaining: 1m 34s\n",
      "272:\tlearn: 0.3374483\ttotal: 35.4s\tremaining: 1m 34s\n",
      "273:\tlearn: 0.3374445\ttotal: 35.5s\tremaining: 1m 34s\n",
      "274:\tlearn: 0.3374435\ttotal: 35.7s\tremaining: 1m 34s\n",
      "275:\tlearn: 0.3374421\ttotal: 35.8s\tremaining: 1m 34s\n",
      "276:\tlearn: 0.3374393\ttotal: 36s\tremaining: 1m 33s\n",
      "277:\tlearn: 0.3374339\ttotal: 36.1s\tremaining: 1m 33s\n",
      "278:\tlearn: 0.3374295\ttotal: 36.2s\tremaining: 1m 33s\n",
      "279:\tlearn: 0.3374288\ttotal: 36.3s\tremaining: 1m 33s\n",
      "280:\tlearn: 0.3374227\ttotal: 36.5s\tremaining: 1m 33s\n",
      "281:\tlearn: 0.3374205\ttotal: 36.6s\tremaining: 1m 33s\n",
      "282:\tlearn: 0.3374153\ttotal: 36.7s\tremaining: 1m 33s\n",
      "283:\tlearn: 0.3374098\ttotal: 36.9s\tremaining: 1m 32s\n",
      "284:\tlearn: 0.3374060\ttotal: 37s\tremaining: 1m 32s\n",
      "285:\tlearn: 0.3374013\ttotal: 37.1s\tremaining: 1m 32s\n",
      "286:\tlearn: 0.3374006\ttotal: 37.3s\tremaining: 1m 32s\n",
      "287:\tlearn: 0.3373958\ttotal: 37.4s\tremaining: 1m 32s\n",
      "288:\tlearn: 0.3373893\ttotal: 37.5s\tremaining: 1m 32s\n",
      "289:\tlearn: 0.3373864\ttotal: 37.7s\tremaining: 1m 32s\n",
      "290:\tlearn: 0.3373802\ttotal: 37.8s\tremaining: 1m 32s\n",
      "291:\tlearn: 0.3373694\ttotal: 37.9s\tremaining: 1m 31s\n",
      "292:\tlearn: 0.3373662\ttotal: 38s\tremaining: 1m 31s\n",
      "293:\tlearn: 0.3373640\ttotal: 38.2s\tremaining: 1m 31s\n",
      "294:\tlearn: 0.3373598\ttotal: 38.3s\tremaining: 1m 31s\n",
      "295:\tlearn: 0.3373556\ttotal: 38.4s\tremaining: 1m 31s\n",
      "296:\tlearn: 0.3373525\ttotal: 38.5s\tremaining: 1m 31s\n",
      "297:\tlearn: 0.3373475\ttotal: 38.6s\tremaining: 1m 31s\n",
      "298:\tlearn: 0.3373419\ttotal: 38.8s\tremaining: 1m 30s\n",
      "299:\tlearn: 0.3373406\ttotal: 38.9s\tremaining: 1m 30s\n",
      "300:\tlearn: 0.3373373\ttotal: 39s\tremaining: 1m 30s\n",
      "301:\tlearn: 0.3373353\ttotal: 39.1s\tremaining: 1m 30s\n",
      "302:\tlearn: 0.3373336\ttotal: 39.3s\tremaining: 1m 30s\n",
      "303:\tlearn: 0.3373302\ttotal: 39.4s\tremaining: 1m 30s\n",
      "304:\tlearn: 0.3373226\ttotal: 39.6s\tremaining: 1m 30s\n",
      "305:\tlearn: 0.3373163\ttotal: 39.7s\tremaining: 1m 30s\n",
      "306:\tlearn: 0.3373124\ttotal: 39.8s\tremaining: 1m 29s\n",
      "307:\tlearn: 0.3373104\ttotal: 39.9s\tremaining: 1m 29s\n",
      "308:\tlearn: 0.3372998\ttotal: 40.1s\tremaining: 1m 29s\n",
      "309:\tlearn: 0.3372960\ttotal: 40.2s\tremaining: 1m 29s\n",
      "310:\tlearn: 0.3372962\ttotal: 40.3s\tremaining: 1m 29s\n",
      "311:\tlearn: 0.3372931\ttotal: 40.4s\tremaining: 1m 29s\n",
      "312:\tlearn: 0.3372929\ttotal: 40.5s\tremaining: 1m 29s\n",
      "313:\tlearn: 0.3372907\ttotal: 40.7s\tremaining: 1m 28s\n",
      "314:\tlearn: 0.3372882\ttotal: 40.8s\tremaining: 1m 28s\n",
      "315:\tlearn: 0.3372864\ttotal: 40.9s\tremaining: 1m 28s\n",
      "316:\tlearn: 0.3372838\ttotal: 41.1s\tremaining: 1m 28s\n",
      "317:\tlearn: 0.3372833\ttotal: 41.2s\tremaining: 1m 28s\n",
      "318:\tlearn: 0.3372809\ttotal: 41.3s\tremaining: 1m 28s\n",
      "319:\tlearn: 0.3372786\ttotal: 41.5s\tremaining: 1m 28s\n",
      "320:\tlearn: 0.3372772\ttotal: 41.6s\tremaining: 1m 27s\n",
      "321:\tlearn: 0.3372711\ttotal: 41.7s\tremaining: 1m 27s\n",
      "322:\tlearn: 0.3372686\ttotal: 41.8s\tremaining: 1m 27s\n",
      "323:\tlearn: 0.3372602\ttotal: 42s\tremaining: 1m 27s\n",
      "324:\tlearn: 0.3372561\ttotal: 42.1s\tremaining: 1m 27s\n",
      "325:\tlearn: 0.3372530\ttotal: 42.2s\tremaining: 1m 27s\n",
      "326:\tlearn: 0.3372488\ttotal: 42.3s\tremaining: 1m 27s\n",
      "327:\tlearn: 0.3372427\ttotal: 42.5s\tremaining: 1m 26s\n",
      "328:\tlearn: 0.3372409\ttotal: 42.6s\tremaining: 1m 26s\n",
      "329:\tlearn: 0.3372368\ttotal: 42.7s\tremaining: 1m 26s\n",
      "330:\tlearn: 0.3372351\ttotal: 42.8s\tremaining: 1m 26s\n",
      "331:\tlearn: 0.3372314\ttotal: 43s\tremaining: 1m 26s\n",
      "332:\tlearn: 0.3372283\ttotal: 43.1s\tremaining: 1m 26s\n",
      "333:\tlearn: 0.3372255\ttotal: 43.2s\tremaining: 1m 26s\n",
      "334:\tlearn: 0.3372236\ttotal: 43.4s\tremaining: 1m 26s\n",
      "335:\tlearn: 0.3372191\ttotal: 43.5s\tremaining: 1m 25s\n",
      "336:\tlearn: 0.3372162\ttotal: 43.6s\tremaining: 1m 25s\n",
      "337:\tlearn: 0.3372088\ttotal: 43.7s\tremaining: 1m 25s\n",
      "338:\tlearn: 0.3372040\ttotal: 43.9s\tremaining: 1m 25s\n",
      "339:\tlearn: 0.3372009\ttotal: 44s\tremaining: 1m 25s\n",
      "340:\tlearn: 0.3371949\ttotal: 44.1s\tremaining: 1m 25s\n",
      "341:\tlearn: 0.3371920\ttotal: 44.2s\tremaining: 1m 25s\n",
      "342:\tlearn: 0.3371900\ttotal: 44.4s\tremaining: 1m 25s\n",
      "343:\tlearn: 0.3371860\ttotal: 44.5s\tremaining: 1m 24s\n",
      "344:\tlearn: 0.3371805\ttotal: 44.6s\tremaining: 1m 24s\n",
      "345:\tlearn: 0.3371791\ttotal: 44.8s\tremaining: 1m 24s\n",
      "346:\tlearn: 0.3371773\ttotal: 44.9s\tremaining: 1m 24s\n",
      "347:\tlearn: 0.3371732\ttotal: 45s\tremaining: 1m 24s\n",
      "348:\tlearn: 0.3371695\ttotal: 45.2s\tremaining: 1m 24s\n",
      "349:\tlearn: 0.3371565\ttotal: 45.3s\tremaining: 1m 24s\n",
      "350:\tlearn: 0.3371495\ttotal: 45.4s\tremaining: 1m 23s\n",
      "351:\tlearn: 0.3371470\ttotal: 45.5s\tremaining: 1m 23s\n",
      "352:\tlearn: 0.3371433\ttotal: 45.7s\tremaining: 1m 23s\n",
      "353:\tlearn: 0.3371430\ttotal: 45.8s\tremaining: 1m 23s\n",
      "354:\tlearn: 0.3371403\ttotal: 45.9s\tremaining: 1m 23s\n",
      "355:\tlearn: 0.3371294\ttotal: 46s\tremaining: 1m 23s\n",
      "356:\tlearn: 0.3371249\ttotal: 46.2s\tremaining: 1m 23s\n",
      "357:\tlearn: 0.3371192\ttotal: 46.3s\tremaining: 1m 23s\n",
      "358:\tlearn: 0.3371087\ttotal: 46.4s\tremaining: 1m 22s\n",
      "359:\tlearn: 0.3371061\ttotal: 46.5s\tremaining: 1m 22s\n",
      "360:\tlearn: 0.3371009\ttotal: 46.7s\tremaining: 1m 22s\n",
      "361:\tlearn: 0.3370988\ttotal: 46.8s\tremaining: 1m 22s\n",
      "362:\tlearn: 0.3370949\ttotal: 46.9s\tremaining: 1m 22s\n",
      "363:\tlearn: 0.3370925\ttotal: 47.1s\tremaining: 1m 22s\n",
      "364:\tlearn: 0.3370904\ttotal: 47.2s\tremaining: 1m 22s\n",
      "365:\tlearn: 0.3370870\ttotal: 47.3s\tremaining: 1m 21s\n",
      "366:\tlearn: 0.3370834\ttotal: 47.4s\tremaining: 1m 21s\n",
      "367:\tlearn: 0.3370806\ttotal: 47.6s\tremaining: 1m 21s\n",
      "368:\tlearn: 0.3370690\ttotal: 47.7s\tremaining: 1m 21s\n",
      "369:\tlearn: 0.3370590\ttotal: 47.8s\tremaining: 1m 21s\n",
      "370:\tlearn: 0.3370588\ttotal: 48s\tremaining: 1m 21s\n",
      "371:\tlearn: 0.3370559\ttotal: 48.1s\tremaining: 1m 21s\n",
      "372:\tlearn: 0.3370527\ttotal: 48.2s\tremaining: 1m 21s\n",
      "373:\tlearn: 0.3370510\ttotal: 48.3s\tremaining: 1m 20s\n",
      "374:\tlearn: 0.3370464\ttotal: 48.5s\tremaining: 1m 20s\n",
      "375:\tlearn: 0.3370451\ttotal: 48.6s\tremaining: 1m 20s\n",
      "376:\tlearn: 0.3370422\ttotal: 48.7s\tremaining: 1m 20s\n",
      "377:\tlearn: 0.3370398\ttotal: 48.8s\tremaining: 1m 20s\n",
      "378:\tlearn: 0.3370374\ttotal: 49s\tremaining: 1m 20s\n",
      "379:\tlearn: 0.3370349\ttotal: 49.1s\tremaining: 1m 20s\n",
      "380:\tlearn: 0.3370307\ttotal: 49.2s\tremaining: 1m 19s\n",
      "381:\tlearn: 0.3370298\ttotal: 49.4s\tremaining: 1m 19s\n",
      "382:\tlearn: 0.3370234\ttotal: 49.5s\tremaining: 1m 19s\n",
      "383:\tlearn: 0.3370206\ttotal: 49.6s\tremaining: 1m 19s\n",
      "384:\tlearn: 0.3370183\ttotal: 49.7s\tremaining: 1m 19s\n",
      "385:\tlearn: 0.3370144\ttotal: 49.9s\tremaining: 1m 19s\n",
      "386:\tlearn: 0.3370109\ttotal: 50s\tremaining: 1m 19s\n",
      "387:\tlearn: 0.3370085\ttotal: 50.1s\tremaining: 1m 19s\n",
      "388:\tlearn: 0.3370072\ttotal: 50.2s\tremaining: 1m 18s\n",
      "389:\tlearn: 0.3370067\ttotal: 50.4s\tremaining: 1m 18s\n",
      "390:\tlearn: 0.3370026\ttotal: 50.5s\tremaining: 1m 18s\n",
      "391:\tlearn: 0.3369973\ttotal: 50.6s\tremaining: 1m 18s\n",
      "392:\tlearn: 0.3369949\ttotal: 50.7s\tremaining: 1m 18s\n",
      "393:\tlearn: 0.3369881\ttotal: 50.9s\tremaining: 1m 18s\n",
      "394:\tlearn: 0.3369655\ttotal: 51s\tremaining: 1m 18s\n",
      "395:\tlearn: 0.3369635\ttotal: 51.1s\tremaining: 1m 17s\n",
      "396:\tlearn: 0.3369592\ttotal: 51.2s\tremaining: 1m 17s\n",
      "397:\tlearn: 0.3369563\ttotal: 51.4s\tremaining: 1m 17s\n",
      "398:\tlearn: 0.3369483\ttotal: 51.5s\tremaining: 1m 17s\n",
      "399:\tlearn: 0.3369463\ttotal: 51.6s\tremaining: 1m 17s\n",
      "400:\tlearn: 0.3369438\ttotal: 51.7s\tremaining: 1m 17s\n",
      "401:\tlearn: 0.3369411\ttotal: 51.9s\tremaining: 1m 17s\n",
      "402:\tlearn: 0.3369392\ttotal: 52s\tremaining: 1m 17s\n",
      "403:\tlearn: 0.3369332\ttotal: 52.1s\tremaining: 1m 16s\n",
      "404:\tlearn: 0.3369298\ttotal: 52.2s\tremaining: 1m 16s\n",
      "405:\tlearn: 0.3369255\ttotal: 52.4s\tremaining: 1m 16s\n",
      "406:\tlearn: 0.3369242\ttotal: 52.5s\tremaining: 1m 16s\n",
      "407:\tlearn: 0.3369221\ttotal: 52.6s\tremaining: 1m 16s\n",
      "408:\tlearn: 0.3369186\ttotal: 52.7s\tremaining: 1m 16s\n",
      "409:\tlearn: 0.3369113\ttotal: 52.9s\tremaining: 1m 16s\n",
      "410:\tlearn: 0.3369085\ttotal: 53s\tremaining: 1m 15s\n",
      "411:\tlearn: 0.3369054\ttotal: 53.1s\tremaining: 1m 15s\n",
      "412:\tlearn: 0.3368993\ttotal: 53.3s\tremaining: 1m 15s\n",
      "413:\tlearn: 0.3368979\ttotal: 53.4s\tremaining: 1m 15s\n",
      "414:\tlearn: 0.3368947\ttotal: 53.5s\tremaining: 1m 15s\n",
      "415:\tlearn: 0.3368935\ttotal: 53.6s\tremaining: 1m 15s\n",
      "416:\tlearn: 0.3368929\ttotal: 53.8s\tremaining: 1m 15s\n",
      "417:\tlearn: 0.3368894\ttotal: 53.9s\tremaining: 1m 15s\n",
      "418:\tlearn: 0.3368811\ttotal: 54s\tremaining: 1m 14s\n",
      "419:\tlearn: 0.3368770\ttotal: 54.2s\tremaining: 1m 14s\n",
      "420:\tlearn: 0.3368752\ttotal: 54.3s\tremaining: 1m 14s\n",
      "421:\tlearn: 0.3368721\ttotal: 54.4s\tremaining: 1m 14s\n",
      "422:\tlearn: 0.3368672\ttotal: 54.5s\tremaining: 1m 14s\n",
      "423:\tlearn: 0.3368651\ttotal: 54.7s\tremaining: 1m 14s\n",
      "424:\tlearn: 0.3368636\ttotal: 54.8s\tremaining: 1m 14s\n",
      "425:\tlearn: 0.3368612\ttotal: 54.9s\tremaining: 1m 14s\n",
      "426:\tlearn: 0.3368594\ttotal: 55.1s\tremaining: 1m 13s\n",
      "427:\tlearn: 0.3368564\ttotal: 55.2s\tremaining: 1m 13s\n",
      "428:\tlearn: 0.3368552\ttotal: 55.3s\tremaining: 1m 13s\n",
      "429:\tlearn: 0.3368540\ttotal: 55.5s\tremaining: 1m 13s\n",
      "430:\tlearn: 0.3368515\ttotal: 55.6s\tremaining: 1m 13s\n",
      "431:\tlearn: 0.3368471\ttotal: 55.7s\tremaining: 1m 13s\n",
      "432:\tlearn: 0.3368465\ttotal: 55.8s\tremaining: 1m 13s\n",
      "433:\tlearn: 0.3368443\ttotal: 56s\tremaining: 1m 12s\n",
      "434:\tlearn: 0.3368439\ttotal: 56.1s\tremaining: 1m 12s\n",
      "435:\tlearn: 0.3368424\ttotal: 56.2s\tremaining: 1m 12s\n",
      "436:\tlearn: 0.3368390\ttotal: 56.3s\tremaining: 1m 12s\n",
      "437:\tlearn: 0.3368387\ttotal: 56.5s\tremaining: 1m 12s\n",
      "438:\tlearn: 0.3368387\ttotal: 56.6s\tremaining: 1m 12s\n",
      "439:\tlearn: 0.3368381\ttotal: 56.7s\tremaining: 1m 12s\n",
      "440:\tlearn: 0.3368382\ttotal: 56.9s\tremaining: 1m 12s\n",
      "441:\tlearn: 0.3368341\ttotal: 57s\tremaining: 1m 11s\n",
      "442:\tlearn: 0.3368336\ttotal: 57.2s\tremaining: 1m 11s\n",
      "443:\tlearn: 0.3368306\ttotal: 57.3s\tremaining: 1m 11s\n",
      "444:\tlearn: 0.3368286\ttotal: 57.4s\tremaining: 1m 11s\n",
      "445:\tlearn: 0.3368255\ttotal: 57.6s\tremaining: 1m 11s\n",
      "446:\tlearn: 0.3368253\ttotal: 57.7s\tremaining: 1m 11s\n",
      "447:\tlearn: 0.3368228\ttotal: 57.8s\tremaining: 1m 11s\n",
      "448:\tlearn: 0.3368182\ttotal: 57.9s\tremaining: 1m 11s\n",
      "449:\tlearn: 0.3368167\ttotal: 58.1s\tremaining: 1m 10s\n",
      "450:\tlearn: 0.3368113\ttotal: 58.2s\tremaining: 1m 10s\n",
      "451:\tlearn: 0.3368085\ttotal: 58.3s\tremaining: 1m 10s\n",
      "452:\tlearn: 0.3368060\ttotal: 58.4s\tremaining: 1m 10s\n",
      "453:\tlearn: 0.3368036\ttotal: 58.6s\tremaining: 1m 10s\n",
      "454:\tlearn: 0.3368017\ttotal: 58.7s\tremaining: 1m 10s\n",
      "455:\tlearn: 0.3367996\ttotal: 58.8s\tremaining: 1m 10s\n",
      "456:\tlearn: 0.3367968\ttotal: 58.9s\tremaining: 1m 10s\n",
      "457:\tlearn: 0.3367949\ttotal: 59.1s\tremaining: 1m 9s\n",
      "458:\tlearn: 0.3367931\ttotal: 59.2s\tremaining: 1m 9s\n",
      "459:\tlearn: 0.3367936\ttotal: 59.3s\tremaining: 1m 9s\n",
      "460:\tlearn: 0.3367913\ttotal: 59.4s\tremaining: 1m 9s\n",
      "461:\tlearn: 0.3367903\ttotal: 59.6s\tremaining: 1m 9s\n",
      "462:\tlearn: 0.3367880\ttotal: 59.7s\tremaining: 1m 9s\n",
      "463:\tlearn: 0.3367836\ttotal: 59.8s\tremaining: 1m 9s\n",
      "464:\tlearn: 0.3367822\ttotal: 59.9s\tremaining: 1m 8s\n",
      "465:\tlearn: 0.3367806\ttotal: 1m\tremaining: 1m 8s\n",
      "466:\tlearn: 0.3367777\ttotal: 1m\tremaining: 1m 8s\n",
      "467:\tlearn: 0.3367761\ttotal: 1m\tremaining: 1m 8s\n",
      "468:\tlearn: 0.3367738\ttotal: 1m\tremaining: 1m 8s\n",
      "469:\tlearn: 0.3367712\ttotal: 1m\tremaining: 1m 8s\n",
      "470:\tlearn: 0.3367696\ttotal: 1m\tremaining: 1m 8s\n",
      "471:\tlearn: 0.3367663\ttotal: 1m\tremaining: 1m 8s\n",
      "472:\tlearn: 0.3367631\ttotal: 1m\tremaining: 1m 7s\n",
      "473:\tlearn: 0.3367621\ttotal: 1m 1s\tremaining: 1m 7s\n",
      "474:\tlearn: 0.3367603\ttotal: 1m 1s\tremaining: 1m 7s\n",
      "475:\tlearn: 0.3367594\ttotal: 1m 1s\tremaining: 1m 7s\n",
      "476:\tlearn: 0.3367540\ttotal: 1m 1s\tremaining: 1m 7s\n",
      "477:\tlearn: 0.3367507\ttotal: 1m 1s\tremaining: 1m 7s\n",
      "478:\tlearn: 0.3367463\ttotal: 1m 1s\tremaining: 1m 7s\n",
      "479:\tlearn: 0.3367440\ttotal: 1m 1s\tremaining: 1m 7s\n",
      "480:\tlearn: 0.3367422\ttotal: 1m 1s\tremaining: 1m 6s\n",
      "481:\tlearn: 0.3367427\ttotal: 1m 2s\tremaining: 1m 6s\n",
      "482:\tlearn: 0.3367403\ttotal: 1m 2s\tremaining: 1m 6s\n",
      "483:\tlearn: 0.3367406\ttotal: 1m 2s\tremaining: 1m 6s\n",
      "484:\tlearn: 0.3367387\ttotal: 1m 2s\tremaining: 1m 6s\n",
      "485:\tlearn: 0.3367379\ttotal: 1m 2s\tremaining: 1m 6s\n",
      "486:\tlearn: 0.3367349\ttotal: 1m 2s\tremaining: 1m 6s\n",
      "487:\tlearn: 0.3367328\ttotal: 1m 2s\tremaining: 1m 6s\n",
      "488:\tlearn: 0.3367326\ttotal: 1m 3s\tremaining: 1m 5s\n",
      "489:\tlearn: 0.3367283\ttotal: 1m 3s\tremaining: 1m 5s\n",
      "490:\tlearn: 0.3367280\ttotal: 1m 3s\tremaining: 1m 5s\n",
      "491:\tlearn: 0.3367258\ttotal: 1m 3s\tremaining: 1m 5s\n",
      "492:\tlearn: 0.3367238\ttotal: 1m 3s\tremaining: 1m 5s\n",
      "493:\tlearn: 0.3367223\ttotal: 1m 3s\tremaining: 1m 5s\n",
      "494:\tlearn: 0.3367212\ttotal: 1m 3s\tremaining: 1m 5s\n",
      "495:\tlearn: 0.3367186\ttotal: 1m 3s\tremaining: 1m 4s\n",
      "496:\tlearn: 0.3367181\ttotal: 1m 4s\tremaining: 1m 4s\n",
      "497:\tlearn: 0.3367160\ttotal: 1m 4s\tremaining: 1m 4s\n",
      "498:\tlearn: 0.3367141\ttotal: 1m 4s\tremaining: 1m 4s\n",
      "499:\tlearn: 0.3367136\ttotal: 1m 4s\tremaining: 1m 4s\n",
      "500:\tlearn: 0.3367121\ttotal: 1m 4s\tremaining: 1m 4s\n",
      "501:\tlearn: 0.3367122\ttotal: 1m 4s\tremaining: 1m 4s\n",
      "502:\tlearn: 0.3367076\ttotal: 1m 4s\tremaining: 1m 4s\n",
      "503:\tlearn: 0.3367068\ttotal: 1m 5s\tremaining: 1m 4s\n",
      "504:\tlearn: 0.3367051\ttotal: 1m 5s\tremaining: 1m 3s\n",
      "505:\tlearn: 0.3367047\ttotal: 1m 5s\tremaining: 1m 3s\n",
      "506:\tlearn: 0.3367031\ttotal: 1m 5s\tremaining: 1m 3s\n",
      "507:\tlearn: 0.3367013\ttotal: 1m 5s\tremaining: 1m 3s\n",
      "508:\tlearn: 0.3366991\ttotal: 1m 5s\tremaining: 1m 3s\n",
      "509:\tlearn: 0.3366979\ttotal: 1m 5s\tremaining: 1m 3s\n",
      "510:\tlearn: 0.3366941\ttotal: 1m 5s\tremaining: 1m 3s\n",
      "511:\tlearn: 0.3366929\ttotal: 1m 6s\tremaining: 1m 2s\n",
      "512:\tlearn: 0.3366903\ttotal: 1m 6s\tremaining: 1m 2s\n",
      "513:\tlearn: 0.3366894\ttotal: 1m 6s\tremaining: 1m 2s\n",
      "514:\tlearn: 0.3366838\ttotal: 1m 6s\tremaining: 1m 2s\n",
      "515:\tlearn: 0.3366789\ttotal: 1m 6s\tremaining: 1m 2s\n",
      "516:\tlearn: 0.3366758\ttotal: 1m 6s\tremaining: 1m 2s\n",
      "517:\tlearn: 0.3366722\ttotal: 1m 6s\tremaining: 1m 2s\n",
      "518:\tlearn: 0.3366717\ttotal: 1m 6s\tremaining: 1m 2s\n",
      "519:\tlearn: 0.3366683\ttotal: 1m 7s\tremaining: 1m 1s\n",
      "520:\tlearn: 0.3366679\ttotal: 1m 7s\tremaining: 1m 1s\n",
      "521:\tlearn: 0.3366657\ttotal: 1m 7s\tremaining: 1m 1s\n",
      "522:\tlearn: 0.3366644\ttotal: 1m 7s\tremaining: 1m 1s\n",
      "523:\tlearn: 0.3366635\ttotal: 1m 7s\tremaining: 1m 1s\n",
      "524:\tlearn: 0.3366616\ttotal: 1m 7s\tremaining: 1m 1s\n",
      "525:\tlearn: 0.3366588\ttotal: 1m 7s\tremaining: 1m 1s\n",
      "526:\tlearn: 0.3366569\ttotal: 1m 8s\tremaining: 1m 1s\n",
      "527:\tlearn: 0.3366550\ttotal: 1m 8s\tremaining: 1m\n",
      "528:\tlearn: 0.3366527\ttotal: 1m 8s\tremaining: 1m\n",
      "529:\tlearn: 0.3366517\ttotal: 1m 8s\tremaining: 1m\n",
      "530:\tlearn: 0.3366492\ttotal: 1m 8s\tremaining: 1m\n",
      "531:\tlearn: 0.3366461\ttotal: 1m 8s\tremaining: 1m\n",
      "532:\tlearn: 0.3366446\ttotal: 1m 8s\tremaining: 1m\n",
      "533:\tlearn: 0.3366424\ttotal: 1m 8s\tremaining: 1m\n",
      "534:\tlearn: 0.3366409\ttotal: 1m 9s\tremaining: 60s\n",
      "535:\tlearn: 0.3366372\ttotal: 1m 9s\tremaining: 59.9s\n",
      "536:\tlearn: 0.3366357\ttotal: 1m 9s\tremaining: 59.7s\n",
      "537:\tlearn: 0.3366332\ttotal: 1m 9s\tremaining: 59.6s\n",
      "538:\tlearn: 0.3366322\ttotal: 1m 9s\tremaining: 59.5s\n",
      "539:\tlearn: 0.3366293\ttotal: 1m 9s\tremaining: 59.3s\n",
      "540:\tlearn: 0.3366271\ttotal: 1m 9s\tremaining: 59.2s\n",
      "541:\tlearn: 0.3366263\ttotal: 1m 9s\tremaining: 59.1s\n",
      "542:\tlearn: 0.3366246\ttotal: 1m 10s\tremaining: 58.9s\n",
      "543:\tlearn: 0.3366231\ttotal: 1m 10s\tremaining: 58.8s\n",
      "544:\tlearn: 0.3366209\ttotal: 1m 10s\tremaining: 58.7s\n",
      "545:\tlearn: 0.3366190\ttotal: 1m 10s\tremaining: 58.5s\n",
      "546:\tlearn: 0.3366184\ttotal: 1m 10s\tremaining: 58.4s\n",
      "547:\tlearn: 0.3366113\ttotal: 1m 10s\tremaining: 58.3s\n",
      "548:\tlearn: 0.3366103\ttotal: 1m 10s\tremaining: 58.1s\n",
      "549:\tlearn: 0.3366090\ttotal: 1m 10s\tremaining: 58s\n",
      "550:\tlearn: 0.3366072\ttotal: 1m 11s\tremaining: 57.9s\n",
      "551:\tlearn: 0.3366059\ttotal: 1m 11s\tremaining: 57.8s\n",
      "552:\tlearn: 0.3366032\ttotal: 1m 11s\tremaining: 57.6s\n",
      "553:\tlearn: 0.3365998\ttotal: 1m 11s\tremaining: 57.5s\n",
      "554:\tlearn: 0.3365992\ttotal: 1m 11s\tremaining: 57.4s\n",
      "555:\tlearn: 0.3365973\ttotal: 1m 11s\tremaining: 57.2s\n",
      "556:\tlearn: 0.3365959\ttotal: 1m 11s\tremaining: 57.1s\n",
      "557:\tlearn: 0.3365915\ttotal: 1m 11s\tremaining: 57s\n",
      "558:\tlearn: 0.3365894\ttotal: 1m 12s\tremaining: 56.8s\n",
      "559:\tlearn: 0.3365882\ttotal: 1m 12s\tremaining: 56.7s\n",
      "560:\tlearn: 0.3365862\ttotal: 1m 12s\tremaining: 56.6s\n",
      "561:\tlearn: 0.3365846\ttotal: 1m 12s\tremaining: 56.4s\n",
      "562:\tlearn: 0.3365806\ttotal: 1m 12s\tremaining: 56.3s\n",
      "563:\tlearn: 0.3365799\ttotal: 1m 12s\tremaining: 56.2s\n",
      "564:\tlearn: 0.3365775\ttotal: 1m 12s\tremaining: 56.1s\n",
      "565:\tlearn: 0.3365752\ttotal: 1m 12s\tremaining: 55.9s\n",
      "566:\tlearn: 0.3365728\ttotal: 1m 13s\tremaining: 55.8s\n",
      "567:\tlearn: 0.3365712\ttotal: 1m 13s\tremaining: 55.7s\n",
      "568:\tlearn: 0.3365692\ttotal: 1m 13s\tremaining: 55.5s\n",
      "569:\tlearn: 0.3365662\ttotal: 1m 13s\tremaining: 55.4s\n",
      "570:\tlearn: 0.3365625\ttotal: 1m 13s\tremaining: 55.3s\n",
      "571:\tlearn: 0.3365608\ttotal: 1m 13s\tremaining: 55.2s\n",
      "572:\tlearn: 0.3365607\ttotal: 1m 13s\tremaining: 55s\n",
      "573:\tlearn: 0.3365585\ttotal: 1m 13s\tremaining: 54.9s\n",
      "574:\tlearn: 0.3365548\ttotal: 1m 14s\tremaining: 54.8s\n",
      "575:\tlearn: 0.3365541\ttotal: 1m 14s\tremaining: 54.6s\n",
      "576:\tlearn: 0.3365535\ttotal: 1m 14s\tremaining: 54.5s\n",
      "577:\tlearn: 0.3365534\ttotal: 1m 14s\tremaining: 54.4s\n",
      "578:\tlearn: 0.3365532\ttotal: 1m 14s\tremaining: 54.2s\n",
      "579:\tlearn: 0.3365519\ttotal: 1m 14s\tremaining: 54.1s\n",
      "580:\tlearn: 0.3365491\ttotal: 1m 14s\tremaining: 54s\n",
      "581:\tlearn: 0.3365476\ttotal: 1m 14s\tremaining: 53.9s\n",
      "582:\tlearn: 0.3365450\ttotal: 1m 15s\tremaining: 53.7s\n",
      "583:\tlearn: 0.3365422\ttotal: 1m 15s\tremaining: 53.6s\n",
      "584:\tlearn: 0.3365392\ttotal: 1m 15s\tremaining: 53.5s\n",
      "585:\tlearn: 0.3365380\ttotal: 1m 15s\tremaining: 53.3s\n",
      "586:\tlearn: 0.3365359\ttotal: 1m 15s\tremaining: 53.2s\n",
      "587:\tlearn: 0.3365344\ttotal: 1m 15s\tremaining: 53.1s\n",
      "588:\tlearn: 0.3365289\ttotal: 1m 15s\tremaining: 52.9s\n",
      "589:\tlearn: 0.3365277\ttotal: 1m 15s\tremaining: 52.8s\n",
      "590:\tlearn: 0.3365254\ttotal: 1m 16s\tremaining: 52.7s\n",
      "591:\tlearn: 0.3365219\ttotal: 1m 16s\tremaining: 52.5s\n",
      "592:\tlearn: 0.3364987\ttotal: 1m 16s\tremaining: 52.4s\n",
      "593:\tlearn: 0.3364957\ttotal: 1m 16s\tremaining: 52.3s\n",
      "594:\tlearn: 0.3364928\ttotal: 1m 16s\tremaining: 52.1s\n",
      "595:\tlearn: 0.3364921\ttotal: 1m 16s\tremaining: 52s\n",
      "596:\tlearn: 0.3364816\ttotal: 1m 16s\tremaining: 51.9s\n",
      "597:\tlearn: 0.3364780\ttotal: 1m 17s\tremaining: 51.8s\n",
      "598:\tlearn: 0.3364754\ttotal: 1m 17s\tremaining: 51.7s\n",
      "599:\tlearn: 0.3364756\ttotal: 1m 17s\tremaining: 51.5s\n",
      "600:\tlearn: 0.3364735\ttotal: 1m 17s\tremaining: 51.4s\n",
      "601:\tlearn: 0.3364738\ttotal: 1m 17s\tremaining: 51.3s\n",
      "602:\tlearn: 0.3364711\ttotal: 1m 17s\tremaining: 51.1s\n",
      "603:\tlearn: 0.3364668\ttotal: 1m 17s\tremaining: 51s\n",
      "604:\tlearn: 0.3364635\ttotal: 1m 17s\tremaining: 50.9s\n",
      "605:\tlearn: 0.3364623\ttotal: 1m 18s\tremaining: 50.7s\n",
      "606:\tlearn: 0.3364588\ttotal: 1m 18s\tremaining: 50.6s\n",
      "607:\tlearn: 0.3364567\ttotal: 1m 18s\tremaining: 50.5s\n",
      "608:\tlearn: 0.3364557\ttotal: 1m 18s\tremaining: 50.3s\n",
      "609:\tlearn: 0.3364543\ttotal: 1m 18s\tremaining: 50.2s\n",
      "610:\tlearn: 0.3364521\ttotal: 1m 18s\tremaining: 50.1s\n",
      "611:\tlearn: 0.3364494\ttotal: 1m 18s\tremaining: 49.9s\n",
      "612:\tlearn: 0.3364471\ttotal: 1m 18s\tremaining: 49.8s\n",
      "613:\tlearn: 0.3364447\ttotal: 1m 19s\tremaining: 49.7s\n",
      "614:\tlearn: 0.3364426\ttotal: 1m 19s\tremaining: 49.6s\n",
      "615:\tlearn: 0.3364418\ttotal: 1m 19s\tremaining: 49.4s\n",
      "616:\tlearn: 0.3364385\ttotal: 1m 19s\tremaining: 49.3s\n",
      "617:\tlearn: 0.3364313\ttotal: 1m 19s\tremaining: 49.2s\n",
      "618:\tlearn: 0.3364293\ttotal: 1m 19s\tremaining: 49s\n",
      "619:\tlearn: 0.3364285\ttotal: 1m 19s\tremaining: 48.9s\n",
      "620:\tlearn: 0.3364230\ttotal: 1m 19s\tremaining: 48.8s\n",
      "621:\tlearn: 0.3364209\ttotal: 1m 20s\tremaining: 48.6s\n",
      "622:\tlearn: 0.3364210\ttotal: 1m 20s\tremaining: 48.5s\n",
      "623:\tlearn: 0.3364184\ttotal: 1m 20s\tremaining: 48.4s\n",
      "624:\tlearn: 0.3364165\ttotal: 1m 20s\tremaining: 48.3s\n",
      "625:\tlearn: 0.3364139\ttotal: 1m 20s\tremaining: 48.1s\n",
      "626:\tlearn: 0.3364111\ttotal: 1m 20s\tremaining: 48s\n",
      "627:\tlearn: 0.3364101\ttotal: 1m 20s\tremaining: 47.9s\n",
      "628:\tlearn: 0.3364084\ttotal: 1m 20s\tremaining: 47.7s\n",
      "629:\tlearn: 0.3364057\ttotal: 1m 21s\tremaining: 47.6s\n",
      "630:\tlearn: 0.3364041\ttotal: 1m 21s\tremaining: 47.5s\n",
      "631:\tlearn: 0.3364031\ttotal: 1m 21s\tremaining: 47.4s\n",
      "632:\tlearn: 0.3364020\ttotal: 1m 21s\tremaining: 47.2s\n",
      "633:\tlearn: 0.3364000\ttotal: 1m 21s\tremaining: 47.1s\n",
      "634:\tlearn: 0.3363932\ttotal: 1m 21s\tremaining: 47s\n",
      "635:\tlearn: 0.3363878\ttotal: 1m 21s\tremaining: 46.8s\n",
      "636:\tlearn: 0.3363868\ttotal: 1m 21s\tremaining: 46.7s\n",
      "637:\tlearn: 0.3363866\ttotal: 1m 22s\tremaining: 46.6s\n",
      "638:\tlearn: 0.3363847\ttotal: 1m 22s\tremaining: 46.5s\n",
      "639:\tlearn: 0.3363838\ttotal: 1m 22s\tremaining: 46.3s\n",
      "640:\tlearn: 0.3363811\ttotal: 1m 22s\tremaining: 46.2s\n",
      "641:\tlearn: 0.3363789\ttotal: 1m 22s\tremaining: 46.1s\n",
      "642:\tlearn: 0.3363736\ttotal: 1m 22s\tremaining: 45.9s\n",
      "643:\tlearn: 0.3363720\ttotal: 1m 22s\tremaining: 45.8s\n",
      "644:\tlearn: 0.3363694\ttotal: 1m 22s\tremaining: 45.7s\n",
      "645:\tlearn: 0.3363657\ttotal: 1m 23s\tremaining: 45.5s\n",
      "646:\tlearn: 0.3363637\ttotal: 1m 23s\tremaining: 45.4s\n",
      "647:\tlearn: 0.3363632\ttotal: 1m 23s\tremaining: 45.3s\n",
      "648:\tlearn: 0.3363605\ttotal: 1m 23s\tremaining: 45.2s\n",
      "649:\tlearn: 0.3363589\ttotal: 1m 23s\tremaining: 45s\n",
      "650:\tlearn: 0.3363527\ttotal: 1m 23s\tremaining: 44.9s\n",
      "651:\tlearn: 0.3363513\ttotal: 1m 23s\tremaining: 44.8s\n",
      "652:\tlearn: 0.3363424\ttotal: 1m 24s\tremaining: 44.6s\n",
      "653:\tlearn: 0.3363395\ttotal: 1m 24s\tremaining: 44.5s\n",
      "654:\tlearn: 0.3363402\ttotal: 1m 24s\tremaining: 44.4s\n",
      "655:\tlearn: 0.3363387\ttotal: 1m 24s\tremaining: 44.2s\n",
      "656:\tlearn: 0.3363368\ttotal: 1m 24s\tremaining: 44.1s\n",
      "657:\tlearn: 0.3363353\ttotal: 1m 24s\tremaining: 44s\n",
      "658:\tlearn: 0.3363350\ttotal: 1m 24s\tremaining: 43.9s\n",
      "659:\tlearn: 0.3363332\ttotal: 1m 24s\tremaining: 43.7s\n",
      "660:\tlearn: 0.3363319\ttotal: 1m 25s\tremaining: 43.6s\n",
      "661:\tlearn: 0.3363302\ttotal: 1m 25s\tremaining: 43.5s\n",
      "662:\tlearn: 0.3363267\ttotal: 1m 25s\tremaining: 43.3s\n",
      "663:\tlearn: 0.3363258\ttotal: 1m 25s\tremaining: 43.2s\n",
      "664:\tlearn: 0.3363246\ttotal: 1m 25s\tremaining: 43.1s\n",
      "665:\tlearn: 0.3363242\ttotal: 1m 25s\tremaining: 43s\n",
      "666:\tlearn: 0.3363217\ttotal: 1m 25s\tremaining: 42.8s\n",
      "667:\tlearn: 0.3363198\ttotal: 1m 25s\tremaining: 42.7s\n",
      "668:\tlearn: 0.3363172\ttotal: 1m 26s\tremaining: 42.6s\n",
      "669:\tlearn: 0.3363155\ttotal: 1m 26s\tremaining: 42.4s\n",
      "670:\tlearn: 0.3363130\ttotal: 1m 26s\tremaining: 42.3s\n",
      "671:\tlearn: 0.3363126\ttotal: 1m 26s\tremaining: 42.2s\n",
      "672:\tlearn: 0.3363102\ttotal: 1m 26s\tremaining: 42s\n",
      "673:\tlearn: 0.3363089\ttotal: 1m 26s\tremaining: 41.9s\n",
      "674:\tlearn: 0.3363092\ttotal: 1m 26s\tremaining: 41.8s\n",
      "675:\tlearn: 0.3363072\ttotal: 1m 26s\tremaining: 41.6s\n",
      "676:\tlearn: 0.3362901\ttotal: 1m 27s\tremaining: 41.5s\n",
      "677:\tlearn: 0.3362856\ttotal: 1m 27s\tremaining: 41.4s\n",
      "678:\tlearn: 0.3362803\ttotal: 1m 27s\tremaining: 41.3s\n",
      "679:\tlearn: 0.3362716\ttotal: 1m 27s\tremaining: 41.1s\n",
      "680:\tlearn: 0.3362691\ttotal: 1m 27s\tremaining: 41s\n",
      "681:\tlearn: 0.3362692\ttotal: 1m 27s\tremaining: 40.9s\n",
      "682:\tlearn: 0.3362672\ttotal: 1m 27s\tremaining: 40.7s\n",
      "683:\tlearn: 0.3362657\ttotal: 1m 27s\tremaining: 40.6s\n",
      "684:\tlearn: 0.3362659\ttotal: 1m 28s\tremaining: 40.5s\n",
      "685:\tlearn: 0.3362643\ttotal: 1m 28s\tremaining: 40.4s\n",
      "686:\tlearn: 0.3362613\ttotal: 1m 28s\tremaining: 40.2s\n",
      "687:\tlearn: 0.3362602\ttotal: 1m 28s\tremaining: 40.1s\n",
      "688:\tlearn: 0.3362596\ttotal: 1m 28s\tremaining: 40s\n",
      "689:\tlearn: 0.3362580\ttotal: 1m 28s\tremaining: 39.8s\n",
      "690:\tlearn: 0.3362577\ttotal: 1m 28s\tremaining: 39.7s\n",
      "691:\tlearn: 0.3362577\ttotal: 1m 28s\tremaining: 39.6s\n",
      "692:\tlearn: 0.3362565\ttotal: 1m 29s\tremaining: 39.5s\n",
      "693:\tlearn: 0.3362558\ttotal: 1m 29s\tremaining: 39.4s\n",
      "694:\tlearn: 0.3362471\ttotal: 1m 29s\tremaining: 39.2s\n",
      "695:\tlearn: 0.3362471\ttotal: 1m 29s\tremaining: 39.1s\n",
      "696:\tlearn: 0.3362457\ttotal: 1m 29s\tremaining: 39s\n",
      "697:\tlearn: 0.3362428\ttotal: 1m 29s\tremaining: 38.8s\n",
      "698:\tlearn: 0.3362393\ttotal: 1m 29s\tremaining: 38.7s\n",
      "699:\tlearn: 0.3362374\ttotal: 1m 30s\tremaining: 38.6s\n",
      "700:\tlearn: 0.3362366\ttotal: 1m 30s\tremaining: 38.4s\n",
      "701:\tlearn: 0.3362355\ttotal: 1m 30s\tremaining: 38.3s\n",
      "702:\tlearn: 0.3362326\ttotal: 1m 30s\tremaining: 38.2s\n",
      "703:\tlearn: 0.3362297\ttotal: 1m 30s\tremaining: 38.1s\n",
      "704:\tlearn: 0.3362253\ttotal: 1m 30s\tremaining: 37.9s\n",
      "705:\tlearn: 0.3362232\ttotal: 1m 30s\tremaining: 37.8s\n",
      "706:\tlearn: 0.3362214\ttotal: 1m 30s\tremaining: 37.7s\n",
      "707:\tlearn: 0.3362193\ttotal: 1m 31s\tremaining: 37.5s\n",
      "708:\tlearn: 0.3362187\ttotal: 1m 31s\tremaining: 37.4s\n",
      "709:\tlearn: 0.3362174\ttotal: 1m 31s\tremaining: 37.3s\n",
      "710:\tlearn: 0.3362154\ttotal: 1m 31s\tremaining: 37.1s\n",
      "711:\tlearn: 0.3362140\ttotal: 1m 31s\tremaining: 37s\n",
      "712:\tlearn: 0.3362118\ttotal: 1m 31s\tremaining: 36.9s\n",
      "713:\tlearn: 0.3362093\ttotal: 1m 31s\tremaining: 36.8s\n",
      "714:\tlearn: 0.3362065\ttotal: 1m 31s\tremaining: 36.6s\n",
      "715:\tlearn: 0.3362029\ttotal: 1m 32s\tremaining: 36.5s\n",
      "716:\tlearn: 0.3362015\ttotal: 1m 32s\tremaining: 36.4s\n",
      "717:\tlearn: 0.3362014\ttotal: 1m 32s\tremaining: 36.2s\n",
      "718:\tlearn: 0.3362005\ttotal: 1m 32s\tremaining: 36.1s\n",
      "719:\tlearn: 0.3361981\ttotal: 1m 32s\tremaining: 36s\n",
      "720:\tlearn: 0.3361963\ttotal: 1m 32s\tremaining: 35.8s\n",
      "721:\tlearn: 0.3361959\ttotal: 1m 32s\tremaining: 35.7s\n",
      "722:\tlearn: 0.3361958\ttotal: 1m 32s\tremaining: 35.6s\n",
      "723:\tlearn: 0.3361943\ttotal: 1m 33s\tremaining: 35.5s\n",
      "724:\tlearn: 0.3361937\ttotal: 1m 33s\tremaining: 35.4s\n",
      "725:\tlearn: 0.3361930\ttotal: 1m 33s\tremaining: 35.2s\n",
      "726:\tlearn: 0.3361900\ttotal: 1m 33s\tremaining: 35.1s\n",
      "727:\tlearn: 0.3361867\ttotal: 1m 33s\tremaining: 35s\n",
      "728:\tlearn: 0.3361848\ttotal: 1m 33s\tremaining: 34.8s\n",
      "729:\tlearn: 0.3361812\ttotal: 1m 33s\tremaining: 34.7s\n",
      "730:\tlearn: 0.3361802\ttotal: 1m 33s\tremaining: 34.6s\n",
      "731:\tlearn: 0.3361790\ttotal: 1m 34s\tremaining: 34.4s\n",
      "732:\tlearn: 0.3361780\ttotal: 1m 34s\tremaining: 34.3s\n",
      "733:\tlearn: 0.3361761\ttotal: 1m 34s\tremaining: 34.2s\n",
      "734:\tlearn: 0.3361746\ttotal: 1m 34s\tremaining: 34.1s\n",
      "735:\tlearn: 0.3361738\ttotal: 1m 34s\tremaining: 33.9s\n",
      "736:\tlearn: 0.3361738\ttotal: 1m 34s\tremaining: 33.8s\n",
      "737:\tlearn: 0.3361728\ttotal: 1m 34s\tremaining: 33.7s\n",
      "738:\tlearn: 0.3361724\ttotal: 1m 34s\tremaining: 33.5s\n",
      "739:\tlearn: 0.3361716\ttotal: 1m 35s\tremaining: 33.4s\n",
      "740:\tlearn: 0.3361709\ttotal: 1m 35s\tremaining: 33.3s\n",
      "741:\tlearn: 0.3361668\ttotal: 1m 35s\tremaining: 33.2s\n",
      "742:\tlearn: 0.3361651\ttotal: 1m 35s\tremaining: 33s\n",
      "743:\tlearn: 0.3361639\ttotal: 1m 35s\tremaining: 32.9s\n",
      "744:\tlearn: 0.3361625\ttotal: 1m 35s\tremaining: 32.8s\n",
      "745:\tlearn: 0.3361616\ttotal: 1m 35s\tremaining: 32.7s\n",
      "746:\tlearn: 0.3361622\ttotal: 1m 36s\tremaining: 32.5s\n",
      "747:\tlearn: 0.3361611\ttotal: 1m 36s\tremaining: 32.4s\n",
      "748:\tlearn: 0.3361610\ttotal: 1m 36s\tremaining: 32.3s\n",
      "749:\tlearn: 0.3361598\ttotal: 1m 36s\tremaining: 32.1s\n",
      "750:\tlearn: 0.3361572\ttotal: 1m 36s\tremaining: 32s\n",
      "751:\tlearn: 0.3361558\ttotal: 1m 36s\tremaining: 31.9s\n",
      "752:\tlearn: 0.3361517\ttotal: 1m 36s\tremaining: 31.8s\n",
      "753:\tlearn: 0.3361501\ttotal: 1m 36s\tremaining: 31.6s\n",
      "754:\tlearn: 0.3361487\ttotal: 1m 37s\tremaining: 31.5s\n",
      "755:\tlearn: 0.3361465\ttotal: 1m 37s\tremaining: 31.4s\n",
      "756:\tlearn: 0.3361449\ttotal: 1m 37s\tremaining: 31.2s\n",
      "757:\tlearn: 0.3361437\ttotal: 1m 37s\tremaining: 31.1s\n",
      "758:\tlearn: 0.3361417\ttotal: 1m 37s\tremaining: 31s\n",
      "759:\tlearn: 0.3361396\ttotal: 1m 37s\tremaining: 30.9s\n",
      "760:\tlearn: 0.3361370\ttotal: 1m 37s\tremaining: 30.7s\n",
      "761:\tlearn: 0.3361353\ttotal: 1m 37s\tremaining: 30.6s\n",
      "762:\tlearn: 0.3361337\ttotal: 1m 38s\tremaining: 30.5s\n",
      "763:\tlearn: 0.3361321\ttotal: 1m 38s\tremaining: 30.3s\n",
      "764:\tlearn: 0.3361312\ttotal: 1m 38s\tremaining: 30.2s\n",
      "765:\tlearn: 0.3361283\ttotal: 1m 38s\tremaining: 30.1s\n",
      "766:\tlearn: 0.3361265\ttotal: 1m 38s\tremaining: 29.9s\n",
      "767:\tlearn: 0.3361245\ttotal: 1m 38s\tremaining: 29.8s\n",
      "768:\tlearn: 0.3361229\ttotal: 1m 38s\tremaining: 29.7s\n",
      "769:\tlearn: 0.3361227\ttotal: 1m 38s\tremaining: 29.6s\n",
      "770:\tlearn: 0.3361209\ttotal: 1m 39s\tremaining: 29.4s\n",
      "771:\tlearn: 0.3361170\ttotal: 1m 39s\tremaining: 29.3s\n",
      "772:\tlearn: 0.3361156\ttotal: 1m 39s\tremaining: 29.2s\n",
      "773:\tlearn: 0.3361153\ttotal: 1m 39s\tremaining: 29.1s\n",
      "774:\tlearn: 0.3361153\ttotal: 1m 39s\tremaining: 28.9s\n",
      "775:\tlearn: 0.3361142\ttotal: 1m 39s\tremaining: 28.8s\n",
      "776:\tlearn: 0.3361094\ttotal: 1m 39s\tremaining: 28.7s\n",
      "777:\tlearn: 0.3361075\ttotal: 1m 40s\tremaining: 28.5s\n",
      "778:\tlearn: 0.3361070\ttotal: 1m 40s\tremaining: 28.4s\n",
      "779:\tlearn: 0.3361058\ttotal: 1m 40s\tremaining: 28.3s\n",
      "780:\tlearn: 0.3361025\ttotal: 1m 40s\tremaining: 28.1s\n",
      "781:\tlearn: 0.3361002\ttotal: 1m 40s\tremaining: 28s\n",
      "782:\tlearn: 0.3360990\ttotal: 1m 40s\tremaining: 27.9s\n",
      "783:\tlearn: 0.3360984\ttotal: 1m 40s\tremaining: 27.8s\n",
      "784:\tlearn: 0.3360959\ttotal: 1m 40s\tremaining: 27.6s\n",
      "785:\tlearn: 0.3360960\ttotal: 1m 41s\tremaining: 27.5s\n",
      "786:\tlearn: 0.3360937\ttotal: 1m 41s\tremaining: 27.4s\n",
      "787:\tlearn: 0.3360924\ttotal: 1m 41s\tremaining: 27.3s\n",
      "788:\tlearn: 0.3360903\ttotal: 1m 41s\tremaining: 27.1s\n",
      "789:\tlearn: 0.3360899\ttotal: 1m 41s\tremaining: 27s\n",
      "790:\tlearn: 0.3360870\ttotal: 1m 41s\tremaining: 26.9s\n",
      "791:\tlearn: 0.3360853\ttotal: 1m 41s\tremaining: 26.7s\n",
      "792:\tlearn: 0.3360841\ttotal: 1m 41s\tremaining: 26.6s\n",
      "793:\tlearn: 0.3360824\ttotal: 1m 42s\tremaining: 26.5s\n",
      "794:\tlearn: 0.3360819\ttotal: 1m 42s\tremaining: 26.3s\n",
      "795:\tlearn: 0.3360809\ttotal: 1m 42s\tremaining: 26.2s\n",
      "796:\tlearn: 0.3360804\ttotal: 1m 42s\tremaining: 26.1s\n",
      "797:\tlearn: 0.3360785\ttotal: 1m 42s\tremaining: 26s\n",
      "798:\tlearn: 0.3360773\ttotal: 1m 42s\tremaining: 25.8s\n",
      "799:\tlearn: 0.3360759\ttotal: 1m 42s\tremaining: 25.7s\n",
      "800:\tlearn: 0.3360722\ttotal: 1m 42s\tremaining: 25.6s\n",
      "801:\tlearn: 0.3360716\ttotal: 1m 43s\tremaining: 25.4s\n",
      "802:\tlearn: 0.3360713\ttotal: 1m 43s\tremaining: 25.3s\n",
      "803:\tlearn: 0.3360629\ttotal: 1m 43s\tremaining: 25.2s\n",
      "804:\tlearn: 0.3360606\ttotal: 1m 43s\tremaining: 25.1s\n",
      "805:\tlearn: 0.3360602\ttotal: 1m 43s\tremaining: 24.9s\n",
      "806:\tlearn: 0.3360580\ttotal: 1m 43s\tremaining: 24.8s\n",
      "807:\tlearn: 0.3360502\ttotal: 1m 43s\tremaining: 24.7s\n",
      "808:\tlearn: 0.3360501\ttotal: 1m 43s\tremaining: 24.6s\n",
      "809:\tlearn: 0.3360493\ttotal: 1m 44s\tremaining: 24.4s\n",
      "810:\tlearn: 0.3360466\ttotal: 1m 44s\tremaining: 24.3s\n",
      "811:\tlearn: 0.3360448\ttotal: 1m 44s\tremaining: 24.2s\n",
      "812:\tlearn: 0.3360435\ttotal: 1m 44s\tremaining: 24s\n",
      "813:\tlearn: 0.3360425\ttotal: 1m 44s\tremaining: 23.9s\n",
      "814:\tlearn: 0.3360419\ttotal: 1m 44s\tremaining: 23.8s\n",
      "815:\tlearn: 0.3360419\ttotal: 1m 44s\tremaining: 23.6s\n",
      "816:\tlearn: 0.3360398\ttotal: 1m 45s\tremaining: 23.5s\n",
      "817:\tlearn: 0.3360384\ttotal: 1m 45s\tremaining: 23.4s\n",
      "818:\tlearn: 0.3360379\ttotal: 1m 45s\tremaining: 23.3s\n",
      "819:\tlearn: 0.3360376\ttotal: 1m 45s\tremaining: 23.1s\n",
      "820:\tlearn: 0.3360363\ttotal: 1m 45s\tremaining: 23s\n",
      "821:\tlearn: 0.3360346\ttotal: 1m 45s\tremaining: 22.9s\n",
      "822:\tlearn: 0.3360330\ttotal: 1m 45s\tremaining: 22.8s\n",
      "823:\tlearn: 0.3360331\ttotal: 1m 45s\tremaining: 22.6s\n",
      "824:\tlearn: 0.3360272\ttotal: 1m 46s\tremaining: 22.5s\n",
      "825:\tlearn: 0.3360269\ttotal: 1m 46s\tremaining: 22.4s\n",
      "826:\tlearn: 0.3360248\ttotal: 1m 46s\tremaining: 22.2s\n",
      "827:\tlearn: 0.3360242\ttotal: 1m 46s\tremaining: 22.1s\n",
      "828:\tlearn: 0.3360212\ttotal: 1m 46s\tremaining: 22s\n",
      "829:\tlearn: 0.3360202\ttotal: 1m 46s\tremaining: 21.9s\n",
      "830:\tlearn: 0.3360196\ttotal: 1m 46s\tremaining: 21.7s\n",
      "831:\tlearn: 0.3360170\ttotal: 1m 46s\tremaining: 21.6s\n",
      "832:\tlearn: 0.3360155\ttotal: 1m 47s\tremaining: 21.5s\n",
      "833:\tlearn: 0.3360157\ttotal: 1m 47s\tremaining: 21.3s\n",
      "834:\tlearn: 0.3360138\ttotal: 1m 47s\tremaining: 21.2s\n",
      "835:\tlearn: 0.3360118\ttotal: 1m 47s\tremaining: 21.1s\n",
      "836:\tlearn: 0.3360112\ttotal: 1m 47s\tremaining: 20.9s\n",
      "837:\tlearn: 0.3360104\ttotal: 1m 47s\tremaining: 20.8s\n",
      "838:\tlearn: 0.3360061\ttotal: 1m 47s\tremaining: 20.7s\n",
      "839:\tlearn: 0.3360045\ttotal: 1m 47s\tremaining: 20.6s\n",
      "840:\tlearn: 0.3360036\ttotal: 1m 48s\tremaining: 20.4s\n",
      "841:\tlearn: 0.3360033\ttotal: 1m 48s\tremaining: 20.3s\n",
      "842:\tlearn: 0.3360028\ttotal: 1m 48s\tremaining: 20.2s\n",
      "843:\tlearn: 0.3360023\ttotal: 1m 48s\tremaining: 20.1s\n",
      "844:\tlearn: 0.3360011\ttotal: 1m 48s\tremaining: 19.9s\n",
      "845:\tlearn: 0.3359997\ttotal: 1m 48s\tremaining: 19.8s\n",
      "846:\tlearn: 0.3359994\ttotal: 1m 48s\tremaining: 19.7s\n",
      "847:\tlearn: 0.3359984\ttotal: 1m 49s\tremaining: 19.5s\n",
      "848:\tlearn: 0.3359966\ttotal: 1m 49s\tremaining: 19.4s\n",
      "849:\tlearn: 0.3359962\ttotal: 1m 49s\tremaining: 19.3s\n",
      "850:\tlearn: 0.3359946\ttotal: 1m 49s\tremaining: 19.2s\n",
      "851:\tlearn: 0.3359935\ttotal: 1m 49s\tremaining: 19s\n",
      "852:\tlearn: 0.3359926\ttotal: 1m 49s\tremaining: 18.9s\n",
      "853:\tlearn: 0.3359907\ttotal: 1m 49s\tremaining: 18.8s\n",
      "854:\tlearn: 0.3359891\ttotal: 1m 49s\tremaining: 18.6s\n",
      "855:\tlearn: 0.3359870\ttotal: 1m 50s\tremaining: 18.5s\n",
      "856:\tlearn: 0.3359845\ttotal: 1m 50s\tremaining: 18.4s\n",
      "857:\tlearn: 0.3359819\ttotal: 1m 50s\tremaining: 18.3s\n",
      "858:\tlearn: 0.3359807\ttotal: 1m 50s\tremaining: 18.1s\n",
      "859:\tlearn: 0.3359788\ttotal: 1m 50s\tremaining: 18s\n",
      "860:\tlearn: 0.3359786\ttotal: 1m 50s\tremaining: 17.9s\n",
      "861:\tlearn: 0.3359740\ttotal: 1m 50s\tremaining: 17.7s\n",
      "862:\tlearn: 0.3359728\ttotal: 1m 50s\tremaining: 17.6s\n",
      "863:\tlearn: 0.3359708\ttotal: 1m 51s\tremaining: 17.5s\n",
      "864:\tlearn: 0.3359700\ttotal: 1m 51s\tremaining: 17.4s\n",
      "865:\tlearn: 0.3359695\ttotal: 1m 51s\tremaining: 17.2s\n",
      "866:\tlearn: 0.3359656\ttotal: 1m 51s\tremaining: 17.1s\n",
      "867:\tlearn: 0.3359644\ttotal: 1m 51s\tremaining: 17s\n",
      "868:\tlearn: 0.3359620\ttotal: 1m 51s\tremaining: 16.8s\n",
      "869:\tlearn: 0.3359562\ttotal: 1m 51s\tremaining: 16.7s\n",
      "870:\tlearn: 0.3359523\ttotal: 1m 51s\tremaining: 16.6s\n",
      "871:\tlearn: 0.3359509\ttotal: 1m 52s\tremaining: 16.4s\n",
      "872:\tlearn: 0.3359503\ttotal: 1m 52s\tremaining: 16.3s\n",
      "873:\tlearn: 0.3359475\ttotal: 1m 52s\tremaining: 16.2s\n",
      "874:\tlearn: 0.3359476\ttotal: 1m 52s\tremaining: 16.1s\n",
      "875:\tlearn: 0.3359455\ttotal: 1m 52s\tremaining: 15.9s\n",
      "876:\tlearn: 0.3359441\ttotal: 1m 52s\tremaining: 15.8s\n",
      "877:\tlearn: 0.3359427\ttotal: 1m 52s\tremaining: 15.7s\n",
      "878:\tlearn: 0.3359404\ttotal: 1m 52s\tremaining: 15.5s\n",
      "879:\tlearn: 0.3359405\ttotal: 1m 53s\tremaining: 15.4s\n",
      "880:\tlearn: 0.3359387\ttotal: 1m 53s\tremaining: 15.3s\n",
      "881:\tlearn: 0.3359383\ttotal: 1m 53s\tremaining: 15.2s\n",
      "882:\tlearn: 0.3359368\ttotal: 1m 53s\tremaining: 15s\n",
      "883:\tlearn: 0.3359346\ttotal: 1m 53s\tremaining: 14.9s\n",
      "884:\tlearn: 0.3359333\ttotal: 1m 53s\tremaining: 14.8s\n",
      "885:\tlearn: 0.3359325\ttotal: 1m 53s\tremaining: 14.6s\n",
      "886:\tlearn: 0.3359308\ttotal: 1m 53s\tremaining: 14.5s\n",
      "887:\tlearn: 0.3359305\ttotal: 1m 54s\tremaining: 14.4s\n",
      "888:\tlearn: 0.3359290\ttotal: 1m 54s\tremaining: 14.3s\n",
      "889:\tlearn: 0.3359284\ttotal: 1m 54s\tremaining: 14.1s\n",
      "890:\tlearn: 0.3359262\ttotal: 1m 54s\tremaining: 14s\n",
      "891:\tlearn: 0.3359217\ttotal: 1m 54s\tremaining: 13.9s\n",
      "892:\tlearn: 0.3359211\ttotal: 1m 54s\tremaining: 13.7s\n",
      "893:\tlearn: 0.3359194\ttotal: 1m 54s\tremaining: 13.6s\n",
      "894:\tlearn: 0.3359187\ttotal: 1m 54s\tremaining: 13.5s\n",
      "895:\tlearn: 0.3359182\ttotal: 1m 55s\tremaining: 13.4s\n",
      "896:\tlearn: 0.3359175\ttotal: 1m 55s\tremaining: 13.2s\n",
      "897:\tlearn: 0.3359166\ttotal: 1m 55s\tremaining: 13.1s\n",
      "898:\tlearn: 0.3359156\ttotal: 1m 55s\tremaining: 13s\n",
      "899:\tlearn: 0.3359150\ttotal: 1m 55s\tremaining: 12.8s\n",
      "900:\tlearn: 0.3359128\ttotal: 1m 55s\tremaining: 12.7s\n",
      "901:\tlearn: 0.3359112\ttotal: 1m 55s\tremaining: 12.6s\n",
      "902:\tlearn: 0.3359112\ttotal: 1m 55s\tremaining: 12.5s\n",
      "903:\tlearn: 0.3359099\ttotal: 1m 56s\tremaining: 12.3s\n",
      "904:\tlearn: 0.3359098\ttotal: 1m 56s\tremaining: 12.2s\n",
      "905:\tlearn: 0.3359077\ttotal: 1m 56s\tremaining: 12.1s\n",
      "906:\tlearn: 0.3359075\ttotal: 1m 56s\tremaining: 11.9s\n",
      "907:\tlearn: 0.3359065\ttotal: 1m 56s\tremaining: 11.8s\n",
      "908:\tlearn: 0.3359047\ttotal: 1m 56s\tremaining: 11.7s\n",
      "909:\tlearn: 0.3359050\ttotal: 1m 56s\tremaining: 11.6s\n",
      "910:\tlearn: 0.3359041\ttotal: 1m 57s\tremaining: 11.4s\n",
      "911:\tlearn: 0.3359022\ttotal: 1m 57s\tremaining: 11.3s\n",
      "912:\tlearn: 0.3359007\ttotal: 1m 57s\tremaining: 11.2s\n",
      "913:\tlearn: 0.3359006\ttotal: 1m 57s\tremaining: 11.1s\n",
      "914:\tlearn: 0.3359002\ttotal: 1m 57s\tremaining: 10.9s\n",
      "915:\tlearn: 0.3358975\ttotal: 1m 57s\tremaining: 10.8s\n",
      "916:\tlearn: 0.3358974\ttotal: 1m 57s\tremaining: 10.7s\n",
      "917:\tlearn: 0.3358967\ttotal: 1m 58s\tremaining: 10.5s\n",
      "918:\tlearn: 0.3358951\ttotal: 1m 58s\tremaining: 10.4s\n",
      "919:\tlearn: 0.3358943\ttotal: 1m 58s\tremaining: 10.3s\n",
      "920:\tlearn: 0.3358937\ttotal: 1m 58s\tremaining: 10.2s\n",
      "921:\tlearn: 0.3358927\ttotal: 1m 58s\tremaining: 10s\n",
      "922:\tlearn: 0.3358915\ttotal: 1m 58s\tremaining: 9.9s\n",
      "923:\tlearn: 0.3358910\ttotal: 1m 58s\tremaining: 9.77s\n",
      "924:\tlearn: 0.3358895\ttotal: 1m 58s\tremaining: 9.64s\n",
      "925:\tlearn: 0.3358879\ttotal: 1m 59s\tremaining: 9.52s\n",
      "926:\tlearn: 0.3358870\ttotal: 1m 59s\tremaining: 9.39s\n",
      "927:\tlearn: 0.3358862\ttotal: 1m 59s\tremaining: 9.26s\n",
      "928:\tlearn: 0.3358848\ttotal: 1m 59s\tremaining: 9.13s\n",
      "929:\tlearn: 0.3358837\ttotal: 1m 59s\tremaining: 9s\n",
      "930:\tlearn: 0.3358825\ttotal: 1m 59s\tremaining: 8.87s\n",
      "931:\tlearn: 0.3358821\ttotal: 1m 59s\tremaining: 8.74s\n",
      "932:\tlearn: 0.3358794\ttotal: 1m 59s\tremaining: 8.62s\n",
      "933:\tlearn: 0.3358794\ttotal: 2m\tremaining: 8.49s\n",
      "934:\tlearn: 0.3358778\ttotal: 2m\tremaining: 8.36s\n",
      "935:\tlearn: 0.3358777\ttotal: 2m\tremaining: 8.23s\n",
      "936:\tlearn: 0.3358759\ttotal: 2m\tremaining: 8.1s\n",
      "937:\tlearn: 0.3358741\ttotal: 2m\tremaining: 7.98s\n",
      "938:\tlearn: 0.3358727\ttotal: 2m\tremaining: 7.85s\n",
      "939:\tlearn: 0.3358714\ttotal: 2m\tremaining: 7.72s\n",
      "940:\tlearn: 0.3358711\ttotal: 2m 1s\tremaining: 7.59s\n",
      "941:\tlearn: 0.3358697\ttotal: 2m 1s\tremaining: 7.46s\n",
      "942:\tlearn: 0.3358697\ttotal: 2m 1s\tremaining: 7.33s\n",
      "943:\tlearn: 0.3358691\ttotal: 2m 1s\tremaining: 7.21s\n",
      "944:\tlearn: 0.3358678\ttotal: 2m 1s\tremaining: 7.08s\n",
      "945:\tlearn: 0.3358659\ttotal: 2m 1s\tremaining: 6.95s\n",
      "946:\tlearn: 0.3358653\ttotal: 2m 1s\tremaining: 6.82s\n",
      "947:\tlearn: 0.3358633\ttotal: 2m 1s\tremaining: 6.69s\n",
      "948:\tlearn: 0.3358617\ttotal: 2m 2s\tremaining: 6.56s\n",
      "949:\tlearn: 0.3358617\ttotal: 2m 2s\tremaining: 6.43s\n",
      "950:\tlearn: 0.3358603\ttotal: 2m 2s\tremaining: 6.3s\n",
      "951:\tlearn: 0.3358597\ttotal: 2m 2s\tremaining: 6.17s\n",
      "952:\tlearn: 0.3358589\ttotal: 2m 2s\tremaining: 6.04s\n",
      "953:\tlearn: 0.3358577\ttotal: 2m 2s\tremaining: 5.92s\n",
      "954:\tlearn: 0.3358570\ttotal: 2m 2s\tremaining: 5.79s\n",
      "955:\tlearn: 0.3358566\ttotal: 2m 2s\tremaining: 5.66s\n",
      "956:\tlearn: 0.3358556\ttotal: 2m 3s\tremaining: 5.53s\n",
      "957:\tlearn: 0.3358532\ttotal: 2m 3s\tremaining: 5.4s\n",
      "958:\tlearn: 0.3358515\ttotal: 2m 3s\tremaining: 5.27s\n",
      "959:\tlearn: 0.3358509\ttotal: 2m 3s\tremaining: 5.14s\n",
      "960:\tlearn: 0.3358484\ttotal: 2m 3s\tremaining: 5.01s\n",
      "961:\tlearn: 0.3358452\ttotal: 2m 3s\tremaining: 4.88s\n",
      "962:\tlearn: 0.3358450\ttotal: 2m 3s\tremaining: 4.76s\n",
      "963:\tlearn: 0.3358434\ttotal: 2m 3s\tremaining: 4.63s\n",
      "964:\tlearn: 0.3358427\ttotal: 2m 4s\tremaining: 4.5s\n",
      "965:\tlearn: 0.3358414\ttotal: 2m 4s\tremaining: 4.37s\n",
      "966:\tlearn: 0.3358404\ttotal: 2m 4s\tremaining: 4.24s\n",
      "967:\tlearn: 0.3358385\ttotal: 2m 4s\tremaining: 4.11s\n",
      "968:\tlearn: 0.3358382\ttotal: 2m 4s\tremaining: 3.98s\n",
      "969:\tlearn: 0.3358372\ttotal: 2m 4s\tremaining: 3.86s\n",
      "970:\tlearn: 0.3358372\ttotal: 2m 4s\tremaining: 3.73s\n",
      "971:\tlearn: 0.3358363\ttotal: 2m 5s\tremaining: 3.6s\n",
      "972:\tlearn: 0.3358359\ttotal: 2m 5s\tremaining: 3.47s\n",
      "973:\tlearn: 0.3358346\ttotal: 2m 5s\tremaining: 3.34s\n",
      "974:\tlearn: 0.3358349\ttotal: 2m 5s\tremaining: 3.21s\n",
      "975:\tlearn: 0.3358330\ttotal: 2m 5s\tremaining: 3.09s\n",
      "976:\tlearn: 0.3358321\ttotal: 2m 5s\tremaining: 2.96s\n",
      "977:\tlearn: 0.3358301\ttotal: 2m 5s\tremaining: 2.83s\n",
      "978:\tlearn: 0.3358286\ttotal: 2m 5s\tremaining: 2.7s\n",
      "979:\tlearn: 0.3358271\ttotal: 2m 6s\tremaining: 2.57s\n",
      "980:\tlearn: 0.3358264\ttotal: 2m 6s\tremaining: 2.44s\n",
      "981:\tlearn: 0.3358247\ttotal: 2m 6s\tremaining: 2.31s\n",
      "982:\tlearn: 0.3358241\ttotal: 2m 6s\tremaining: 2.19s\n",
      "983:\tlearn: 0.3358229\ttotal: 2m 6s\tremaining: 2.06s\n",
      "984:\tlearn: 0.3358230\ttotal: 2m 6s\tremaining: 1.93s\n",
      "985:\tlearn: 0.3358217\ttotal: 2m 6s\tremaining: 1.8s\n",
      "986:\tlearn: 0.3358209\ttotal: 2m 6s\tremaining: 1.67s\n",
      "987:\tlearn: 0.3358197\ttotal: 2m 7s\tremaining: 1.54s\n",
      "988:\tlearn: 0.3358192\ttotal: 2m 7s\tremaining: 1.41s\n",
      "989:\tlearn: 0.3358186\ttotal: 2m 7s\tremaining: 1.28s\n",
      "990:\tlearn: 0.3358178\ttotal: 2m 7s\tremaining: 1.16s\n",
      "991:\tlearn: 0.3358171\ttotal: 2m 7s\tremaining: 1.03s\n",
      "992:\tlearn: 0.3358152\ttotal: 2m 7s\tremaining: 900ms\n",
      "993:\tlearn: 0.3358151\ttotal: 2m 7s\tremaining: 772ms\n",
      "994:\tlearn: 0.3358144\ttotal: 2m 7s\tremaining: 643ms\n",
      "995:\tlearn: 0.3358128\ttotal: 2m 8s\tremaining: 514ms\n",
      "996:\tlearn: 0.3358113\ttotal: 2m 8s\tremaining: 386ms\n",
      "997:\tlearn: 0.3358117\ttotal: 2m 8s\tremaining: 257ms\n",
      "998:\tlearn: 0.3358107\ttotal: 2m 8s\tremaining: 129ms\n",
      "999:\tlearn: 0.3358101\ttotal: 2m 8s\tremaining: 0us\n"
     ]
    },
    {
     "data": {
      "text/plain": "<catboost.core.CatBoostClassifier at 0x26e9c399be0>"
     },
     "execution_count": 48,
     "metadata": {},
     "output_type": "execute_result"
    }
   ],
   "source": [
    "from catboost import CatBoostClassifier\n",
    "\n",
    "catboost = CatBoostClassifier(iterations=1000,\n",
    "                              learning_rate=1,\n",
    "                              depth=2,\n",
    "                              task_type='GPU')\n",
    "\n",
    "catboost.fit(X_train, y_train, object_cols)"
   ],
   "metadata": {
    "collapsed": false,
    "ExecuteTime": {
     "end_time": "2023-09-04T07:16:07.841831500Z",
     "start_time": "2023-09-04T07:13:19.563700800Z"
    }
   }
  },
  {
   "cell_type": "code",
   "execution_count": 49,
   "outputs": [
    {
     "name": "stdout",
     "output_type": "stream",
     "text": [
      "Качество на трейне: 0.6843964344177648\n",
      "Качество на тесте: 0.6628233802755337\n"
     ]
    }
   ],
   "source": [
    "from sklearn.metrics import roc_auc_score\n",
    "\n",
    "print(f\"Качество на трейне: {roc_auc_score(y_train, catboost.predict_proba(X_train)[:, 1])}\")\n",
    "print(f\"Качество на тесте: {roc_auc_score(y_test, catboost.predict_proba(X_test)[:, 1])}\")"
   ],
   "metadata": {
    "collapsed": false,
    "ExecuteTime": {
     "end_time": "2023-09-04T07:16:39.937920800Z",
     "start_time": "2023-09-04T07:16:07.830292200Z"
    }
   }
  },
  {
   "cell_type": "code",
   "execution_count": 50,
   "outputs": [],
   "source": [
    "catboost.save_model('catboost')"
   ],
   "metadata": {
    "collapsed": false,
    "ExecuteTime": {
     "end_time": "2023-09-04T07:16:39.974059400Z",
     "start_time": "2023-09-04T07:16:39.938930Z"
    }
   }
  },
  {
   "cell_type": "code",
   "execution_count": null,
   "outputs": [],
   "source": [
    "# Write processed data to sql\n",
    "post_info.to_sql('m_mishin_features_lesson_22_post', con=engine, if_exists='replace', index=False)"
   ],
   "metadata": {
    "collapsed": false
   }
  },
  {
   "cell_type": "markdown",
   "source": [
    "# Prod workflow example"
   ],
   "metadata": {
    "collapsed": false
   }
  },
  {
   "cell_type": "code",
   "execution_count": 71,
   "outputs": [
    {
     "data": {
      "text/plain": "   post_id     topic  TotalTfIdf  MaxTfIdf  MeanTfIdf  TextCluster  \\\n0        1  business    8.748129  0.495805   0.000190            7   \n1        2  business   11.878472  0.308003   0.000258            7   \n2        3  business   12.675530  0.261799   0.000276            7   \n3        4  business    6.622786  0.537713   0.000144            7   \n4        5  business    6.352096  0.420251   0.000138            7   \n\n   DistanceTo1thCluster  DistanceTo2thCluster  DistanceTo3thCluster  \\\n0              0.443200              0.478396              0.451612   \n1              0.296991              0.339678              0.308105   \n2              0.329922              0.361063              0.334318   \n3              0.290443              0.318269              0.272464   \n4              0.223669              0.257254              0.197249   \n\n   DistanceTo4thCluster  DistanceTo5thCluster  DistanceTo6thCluster  \\\n0              0.435837              0.498823              0.437494   \n1              0.273176              0.370485              0.281348   \n2              0.318718              0.384941              0.308293   \n3              0.261157              0.346719              0.254609   \n4              0.220332              0.289619              0.164602   \n\n   DistanceTo7thCluster  DistanceTo8thCluster  DistanceTo9thCluster  \\\n0              0.521054              0.330863              0.527461   \n1              0.252152              0.155099              0.409704   \n2              0.462507              0.175753              0.431099   \n3              0.410300              0.115072              0.381911   \n4              0.371760              0.121962              0.341579   \n\n   DistanceTo10thCluster  \n0               0.537637  \n1               0.434167  \n2               0.468838  \n3               0.431798  \n4               0.388580  ",
      "text/html": "<div>\n<style scoped>\n    .dataframe tbody tr th:only-of-type {\n        vertical-align: middle;\n    }\n\n    .dataframe tbody tr th {\n        vertical-align: top;\n    }\n\n    .dataframe thead th {\n        text-align: right;\n    }\n</style>\n<table border=\"1\" class=\"dataframe\">\n  <thead>\n    <tr style=\"text-align: right;\">\n      <th></th>\n      <th>post_id</th>\n      <th>topic</th>\n      <th>TotalTfIdf</th>\n      <th>MaxTfIdf</th>\n      <th>MeanTfIdf</th>\n      <th>TextCluster</th>\n      <th>DistanceTo1thCluster</th>\n      <th>DistanceTo2thCluster</th>\n      <th>DistanceTo3thCluster</th>\n      <th>DistanceTo4thCluster</th>\n      <th>DistanceTo5thCluster</th>\n      <th>DistanceTo6thCluster</th>\n      <th>DistanceTo7thCluster</th>\n      <th>DistanceTo8thCluster</th>\n      <th>DistanceTo9thCluster</th>\n      <th>DistanceTo10thCluster</th>\n    </tr>\n  </thead>\n  <tbody>\n    <tr>\n      <th>0</th>\n      <td>1</td>\n      <td>business</td>\n      <td>8.748129</td>\n      <td>0.495805</td>\n      <td>0.000190</td>\n      <td>7</td>\n      <td>0.443200</td>\n      <td>0.478396</td>\n      <td>0.451612</td>\n      <td>0.435837</td>\n      <td>0.498823</td>\n      <td>0.437494</td>\n      <td>0.521054</td>\n      <td>0.330863</td>\n      <td>0.527461</td>\n      <td>0.537637</td>\n    </tr>\n    <tr>\n      <th>1</th>\n      <td>2</td>\n      <td>business</td>\n      <td>11.878472</td>\n      <td>0.308003</td>\n      <td>0.000258</td>\n      <td>7</td>\n      <td>0.296991</td>\n      <td>0.339678</td>\n      <td>0.308105</td>\n      <td>0.273176</td>\n      <td>0.370485</td>\n      <td>0.281348</td>\n      <td>0.252152</td>\n      <td>0.155099</td>\n      <td>0.409704</td>\n      <td>0.434167</td>\n    </tr>\n    <tr>\n      <th>2</th>\n      <td>3</td>\n      <td>business</td>\n      <td>12.675530</td>\n      <td>0.261799</td>\n      <td>0.000276</td>\n      <td>7</td>\n      <td>0.329922</td>\n      <td>0.361063</td>\n      <td>0.334318</td>\n      <td>0.318718</td>\n      <td>0.384941</td>\n      <td>0.308293</td>\n      <td>0.462507</td>\n      <td>0.175753</td>\n      <td>0.431099</td>\n      <td>0.468838</td>\n    </tr>\n    <tr>\n      <th>3</th>\n      <td>4</td>\n      <td>business</td>\n      <td>6.622786</td>\n      <td>0.537713</td>\n      <td>0.000144</td>\n      <td>7</td>\n      <td>0.290443</td>\n      <td>0.318269</td>\n      <td>0.272464</td>\n      <td>0.261157</td>\n      <td>0.346719</td>\n      <td>0.254609</td>\n      <td>0.410300</td>\n      <td>0.115072</td>\n      <td>0.381911</td>\n      <td>0.431798</td>\n    </tr>\n    <tr>\n      <th>4</th>\n      <td>5</td>\n      <td>business</td>\n      <td>6.352096</td>\n      <td>0.420251</td>\n      <td>0.000138</td>\n      <td>7</td>\n      <td>0.223669</td>\n      <td>0.257254</td>\n      <td>0.197249</td>\n      <td>0.220332</td>\n      <td>0.289619</td>\n      <td>0.164602</td>\n      <td>0.371760</td>\n      <td>0.121962</td>\n      <td>0.341579</td>\n      <td>0.388580</td>\n    </tr>\n  </tbody>\n</table>\n</div>"
     },
     "execution_count": 71,
     "metadata": {},
     "output_type": "execute_result"
    }
   ],
   "source": [
    "post_test = pd.read_sql('m_mishin_features_lesson_22_post', con=engine)\n",
    "post_test.head()"
   ],
   "metadata": {
    "collapsed": false,
    "ExecuteTime": {
     "end_time": "2023-09-04T07:32:01.128397600Z",
     "start_time": "2023-09-04T07:31:52.905665400Z"
    }
   }
  },
  {
   "cell_type": "code",
   "execution_count": 72,
   "outputs": [],
   "source": [
    "exmp_user_id = 322\n",
    "single_user_data = user_data.loc[user_data['user_id'] == exmp_user_id]"
   ],
   "metadata": {
    "collapsed": false,
    "ExecuteTime": {
     "end_time": "2023-09-04T07:32:01.128397600Z",
     "start_time": "2023-09-04T07:31:54.370523200Z"
    }
   }
  },
  {
   "cell_type": "code",
   "execution_count": 73,
   "outputs": [
    {
     "data": {
      "text/plain": "                    topic  TotalTfIdf  MaxTfIdf  MeanTfIdf  TextCluster  \\\nuser_id post_id                                                           \n322     1        business    8.748129  0.495805   0.000190            7   \n        2        business   11.878472  0.308003   0.000258            7   \n        3        business   12.675530  0.261799   0.000276            7   \n        4        business    6.622786  0.537713   0.000144            7   \n        5        business    6.352096  0.420251   0.000138            7   \n\n                 DistanceTo1thCluster  DistanceTo2thCluster  \\\nuser_id post_id                                               \n322     1                    0.443200              0.478396   \n        2                    0.296991              0.339678   \n        3                    0.329922              0.361063   \n        4                    0.290443              0.318269   \n        5                    0.223669              0.257254   \n\n                 DistanceTo3thCluster  DistanceTo4thCluster  \\\nuser_id post_id                                               \n322     1                    0.451612              0.435837   \n        2                    0.308105              0.273176   \n        3                    0.334318              0.318718   \n        4                    0.272464              0.261157   \n        5                    0.197249              0.220332   \n\n                 DistanceTo5thCluster  ...  DistanceTo10thCluster  gender  \\\nuser_id post_id                        ...                                  \n322     1                    0.498823  ...               0.537637       0   \n        2                    0.370485  ...               0.434167       0   \n        3                    0.384941  ...               0.468838       0   \n        4                    0.346719  ...               0.431798       0   \n        5                    0.289619  ...               0.388580       0   \n\n                 age  country   city  exp_group       os source weekend  hour  \nuser_id post_id                                                                \n322     1         51   Russia  Tomsk          2  Android    ads       0    10  \n        2         51   Russia  Tomsk          2  Android    ads       0    10  \n        3         51   Russia  Tomsk          2  Android    ads       0    10  \n        4         51   Russia  Tomsk          2  Android    ads       0    10  \n        5         51   Russia  Tomsk          2  Android    ads       0    10  \n\n[5 rows x 24 columns]",
      "text/html": "<div>\n<style scoped>\n    .dataframe tbody tr th:only-of-type {\n        vertical-align: middle;\n    }\n\n    .dataframe tbody tr th {\n        vertical-align: top;\n    }\n\n    .dataframe thead th {\n        text-align: right;\n    }\n</style>\n<table border=\"1\" class=\"dataframe\">\n  <thead>\n    <tr style=\"text-align: right;\">\n      <th></th>\n      <th></th>\n      <th>topic</th>\n      <th>TotalTfIdf</th>\n      <th>MaxTfIdf</th>\n      <th>MeanTfIdf</th>\n      <th>TextCluster</th>\n      <th>DistanceTo1thCluster</th>\n      <th>DistanceTo2thCluster</th>\n      <th>DistanceTo3thCluster</th>\n      <th>DistanceTo4thCluster</th>\n      <th>DistanceTo5thCluster</th>\n      <th>...</th>\n      <th>DistanceTo10thCluster</th>\n      <th>gender</th>\n      <th>age</th>\n      <th>country</th>\n      <th>city</th>\n      <th>exp_group</th>\n      <th>os</th>\n      <th>source</th>\n      <th>weekend</th>\n      <th>hour</th>\n    </tr>\n    <tr>\n      <th>user_id</th>\n      <th>post_id</th>\n      <th></th>\n      <th></th>\n      <th></th>\n      <th></th>\n      <th></th>\n      <th></th>\n      <th></th>\n      <th></th>\n      <th></th>\n      <th></th>\n      <th></th>\n      <th></th>\n      <th></th>\n      <th></th>\n      <th></th>\n      <th></th>\n      <th></th>\n      <th></th>\n      <th></th>\n      <th></th>\n      <th></th>\n    </tr>\n  </thead>\n  <tbody>\n    <tr>\n      <th rowspan=\"5\" valign=\"top\">322</th>\n      <th>1</th>\n      <td>business</td>\n      <td>8.748129</td>\n      <td>0.495805</td>\n      <td>0.000190</td>\n      <td>7</td>\n      <td>0.443200</td>\n      <td>0.478396</td>\n      <td>0.451612</td>\n      <td>0.435837</td>\n      <td>0.498823</td>\n      <td>...</td>\n      <td>0.537637</td>\n      <td>0</td>\n      <td>51</td>\n      <td>Russia</td>\n      <td>Tomsk</td>\n      <td>2</td>\n      <td>Android</td>\n      <td>ads</td>\n      <td>0</td>\n      <td>10</td>\n    </tr>\n    <tr>\n      <th>2</th>\n      <td>business</td>\n      <td>11.878472</td>\n      <td>0.308003</td>\n      <td>0.000258</td>\n      <td>7</td>\n      <td>0.296991</td>\n      <td>0.339678</td>\n      <td>0.308105</td>\n      <td>0.273176</td>\n      <td>0.370485</td>\n      <td>...</td>\n      <td>0.434167</td>\n      <td>0</td>\n      <td>51</td>\n      <td>Russia</td>\n      <td>Tomsk</td>\n      <td>2</td>\n      <td>Android</td>\n      <td>ads</td>\n      <td>0</td>\n      <td>10</td>\n    </tr>\n    <tr>\n      <th>3</th>\n      <td>business</td>\n      <td>12.675530</td>\n      <td>0.261799</td>\n      <td>0.000276</td>\n      <td>7</td>\n      <td>0.329922</td>\n      <td>0.361063</td>\n      <td>0.334318</td>\n      <td>0.318718</td>\n      <td>0.384941</td>\n      <td>...</td>\n      <td>0.468838</td>\n      <td>0</td>\n      <td>51</td>\n      <td>Russia</td>\n      <td>Tomsk</td>\n      <td>2</td>\n      <td>Android</td>\n      <td>ads</td>\n      <td>0</td>\n      <td>10</td>\n    </tr>\n    <tr>\n      <th>4</th>\n      <td>business</td>\n      <td>6.622786</td>\n      <td>0.537713</td>\n      <td>0.000144</td>\n      <td>7</td>\n      <td>0.290443</td>\n      <td>0.318269</td>\n      <td>0.272464</td>\n      <td>0.261157</td>\n      <td>0.346719</td>\n      <td>...</td>\n      <td>0.431798</td>\n      <td>0</td>\n      <td>51</td>\n      <td>Russia</td>\n      <td>Tomsk</td>\n      <td>2</td>\n      <td>Android</td>\n      <td>ads</td>\n      <td>0</td>\n      <td>10</td>\n    </tr>\n    <tr>\n      <th>5</th>\n      <td>business</td>\n      <td>6.352096</td>\n      <td>0.420251</td>\n      <td>0.000138</td>\n      <td>7</td>\n      <td>0.223669</td>\n      <td>0.257254</td>\n      <td>0.197249</td>\n      <td>0.220332</td>\n      <td>0.289619</td>\n      <td>...</td>\n      <td>0.388580</td>\n      <td>0</td>\n      <td>51</td>\n      <td>Russia</td>\n      <td>Tomsk</td>\n      <td>2</td>\n      <td>Android</td>\n      <td>ads</td>\n      <td>0</td>\n      <td>10</td>\n    </tr>\n  </tbody>\n</table>\n<p>5 rows × 24 columns</p>\n</div>"
     },
     "execution_count": 73,
     "metadata": {},
     "output_type": "execute_result"
    }
   ],
   "source": [
    "# Add user features\n",
    "df = pd.merge(post_test, single_user_data, how='cross')\n",
    "df = df.set_index(['user_id', 'post_id'])\n",
    "\n",
    "# Add time features\n",
    "time = pd.Timestamp.today()\n",
    "df['weekend'] = time.weekday()\n",
    "\n",
    "df['hour'] = time.hour\n",
    "\n",
    "df.head()"
   ],
   "metadata": {
    "collapsed": false,
    "ExecuteTime": {
     "end_time": "2023-09-04T07:32:01.128397600Z",
     "start_time": "2023-09-04T07:31:54.387875300Z"
    }
   }
  },
  {
   "cell_type": "code",
   "execution_count": 74,
   "outputs": [
    {
     "data": {
      "text/plain": "                    topic  TotalTfIdf  MaxTfIdf  MeanTfIdf  TextCluster  \\\nuser_id post_id                                                           \n322     1        business    8.748129  0.495805   0.000190            7   \n        2        business   11.878472  0.308003   0.000258            7   \n        3        business   12.675530  0.261799   0.000276            7   \n        4        business    6.622786  0.537713   0.000144            7   \n        5        business    6.352096  0.420251   0.000138            7   \n\n                 DistanceTo1thCluster  DistanceTo2thCluster  \\\nuser_id post_id                                               \n322     1                    0.443200              0.478396   \n        2                    0.296991              0.339678   \n        3                    0.329922              0.361063   \n        4                    0.290443              0.318269   \n        5                    0.223669              0.257254   \n\n                 DistanceTo3thCluster  DistanceTo4thCluster  \\\nuser_id post_id                                               \n322     1                    0.451612              0.435837   \n        2                    0.308105              0.273176   \n        3                    0.334318              0.318718   \n        4                    0.272464              0.261157   \n        5                    0.197249              0.220332   \n\n                 DistanceTo5thCluster  ...  gender  age  country   city  \\\nuser_id post_id                        ...                                \n322     1                    0.498823  ...       0   51   Russia  Tomsk   \n        2                    0.370485  ...       0   51   Russia  Tomsk   \n        3                    0.384941  ...       0   51   Russia  Tomsk   \n        4                    0.346719  ...       0   51   Russia  Tomsk   \n        5                    0.289619  ...       0   51   Russia  Tomsk   \n\n                 exp_group       os  source weekend hour     preds  \nuser_id post_id                                                     \n322     1                2  Android     ads       0   10  0.179489  \n        2                2  Android     ads       0   10  0.170375  \n        3                2  Android     ads       0   10  0.241669  \n        4                2  Android     ads       0   10  0.206758  \n        5                2  Android     ads       0   10  0.109281  \n\n[5 rows x 25 columns]",
      "text/html": "<div>\n<style scoped>\n    .dataframe tbody tr th:only-of-type {\n        vertical-align: middle;\n    }\n\n    .dataframe tbody tr th {\n        vertical-align: top;\n    }\n\n    .dataframe thead th {\n        text-align: right;\n    }\n</style>\n<table border=\"1\" class=\"dataframe\">\n  <thead>\n    <tr style=\"text-align: right;\">\n      <th></th>\n      <th></th>\n      <th>topic</th>\n      <th>TotalTfIdf</th>\n      <th>MaxTfIdf</th>\n      <th>MeanTfIdf</th>\n      <th>TextCluster</th>\n      <th>DistanceTo1thCluster</th>\n      <th>DistanceTo2thCluster</th>\n      <th>DistanceTo3thCluster</th>\n      <th>DistanceTo4thCluster</th>\n      <th>DistanceTo5thCluster</th>\n      <th>...</th>\n      <th>gender</th>\n      <th>age</th>\n      <th>country</th>\n      <th>city</th>\n      <th>exp_group</th>\n      <th>os</th>\n      <th>source</th>\n      <th>weekend</th>\n      <th>hour</th>\n      <th>preds</th>\n    </tr>\n    <tr>\n      <th>user_id</th>\n      <th>post_id</th>\n      <th></th>\n      <th></th>\n      <th></th>\n      <th></th>\n      <th></th>\n      <th></th>\n      <th></th>\n      <th></th>\n      <th></th>\n      <th></th>\n      <th></th>\n      <th></th>\n      <th></th>\n      <th></th>\n      <th></th>\n      <th></th>\n      <th></th>\n      <th></th>\n      <th></th>\n      <th></th>\n      <th></th>\n    </tr>\n  </thead>\n  <tbody>\n    <tr>\n      <th rowspan=\"5\" valign=\"top\">322</th>\n      <th>1</th>\n      <td>business</td>\n      <td>8.748129</td>\n      <td>0.495805</td>\n      <td>0.000190</td>\n      <td>7</td>\n      <td>0.443200</td>\n      <td>0.478396</td>\n      <td>0.451612</td>\n      <td>0.435837</td>\n      <td>0.498823</td>\n      <td>...</td>\n      <td>0</td>\n      <td>51</td>\n      <td>Russia</td>\n      <td>Tomsk</td>\n      <td>2</td>\n      <td>Android</td>\n      <td>ads</td>\n      <td>0</td>\n      <td>10</td>\n      <td>0.179489</td>\n    </tr>\n    <tr>\n      <th>2</th>\n      <td>business</td>\n      <td>11.878472</td>\n      <td>0.308003</td>\n      <td>0.000258</td>\n      <td>7</td>\n      <td>0.296991</td>\n      <td>0.339678</td>\n      <td>0.308105</td>\n      <td>0.273176</td>\n      <td>0.370485</td>\n      <td>...</td>\n      <td>0</td>\n      <td>51</td>\n      <td>Russia</td>\n      <td>Tomsk</td>\n      <td>2</td>\n      <td>Android</td>\n      <td>ads</td>\n      <td>0</td>\n      <td>10</td>\n      <td>0.170375</td>\n    </tr>\n    <tr>\n      <th>3</th>\n      <td>business</td>\n      <td>12.675530</td>\n      <td>0.261799</td>\n      <td>0.000276</td>\n      <td>7</td>\n      <td>0.329922</td>\n      <td>0.361063</td>\n      <td>0.334318</td>\n      <td>0.318718</td>\n      <td>0.384941</td>\n      <td>...</td>\n      <td>0</td>\n      <td>51</td>\n      <td>Russia</td>\n      <td>Tomsk</td>\n      <td>2</td>\n      <td>Android</td>\n      <td>ads</td>\n      <td>0</td>\n      <td>10</td>\n      <td>0.241669</td>\n    </tr>\n    <tr>\n      <th>4</th>\n      <td>business</td>\n      <td>6.622786</td>\n      <td>0.537713</td>\n      <td>0.000144</td>\n      <td>7</td>\n      <td>0.290443</td>\n      <td>0.318269</td>\n      <td>0.272464</td>\n      <td>0.261157</td>\n      <td>0.346719</td>\n      <td>...</td>\n      <td>0</td>\n      <td>51</td>\n      <td>Russia</td>\n      <td>Tomsk</td>\n      <td>2</td>\n      <td>Android</td>\n      <td>ads</td>\n      <td>0</td>\n      <td>10</td>\n      <td>0.206758</td>\n    </tr>\n    <tr>\n      <th>5</th>\n      <td>business</td>\n      <td>6.352096</td>\n      <td>0.420251</td>\n      <td>0.000138</td>\n      <td>7</td>\n      <td>0.223669</td>\n      <td>0.257254</td>\n      <td>0.197249</td>\n      <td>0.220332</td>\n      <td>0.289619</td>\n      <td>...</td>\n      <td>0</td>\n      <td>51</td>\n      <td>Russia</td>\n      <td>Tomsk</td>\n      <td>2</td>\n      <td>Android</td>\n      <td>ads</td>\n      <td>0</td>\n      <td>10</td>\n      <td>0.109281</td>\n    </tr>\n  </tbody>\n</table>\n<p>5 rows × 25 columns</p>\n</div>"
     },
     "execution_count": 74,
     "metadata": {},
     "output_type": "execute_result"
    }
   ],
   "source": [
    "# Predict chance of post getting a like\n",
    "df['preds'] = catboost.predict_proba(df)[:, 1]\n",
    "df.head()"
   ],
   "metadata": {
    "collapsed": false,
    "ExecuteTime": {
     "end_time": "2023-09-04T07:32:01.128397600Z",
     "start_time": "2023-09-04T07:31:54.418987200Z"
    }
   }
  },
  {
   "cell_type": "code",
   "execution_count": 78,
   "outputs": [
    {
     "data": {
      "text/plain": "[342, 6306, 147, 4962, 532]"
     },
     "execution_count": 78,
     "metadata": {},
     "output_type": "execute_result"
    }
   ],
   "source": [
    "# Get ids of top 5 recommended posts\n",
    "post_ids = list(df.sort_values('preds', ascending=False).head().reset_index().post_id)\n",
    "post_ids"
   ],
   "metadata": {
    "collapsed": false,
    "ExecuteTime": {
     "end_time": "2023-09-04T07:33:17.686202100Z",
     "start_time": "2023-09-04T07:33:17.661558Z"
    }
   }
  },
  {
   "cell_type": "code",
   "execution_count": 83,
   "outputs": [],
   "source": [
    "# Read post texts and topics from sql\n",
    "post_texts = pd.read_sql('SELECT * FROM public.post_text_df', con=engine)"
   ],
   "metadata": {
    "collapsed": false,
    "ExecuteTime": {
     "end_time": "2023-09-04T07:35:55.792202800Z",
     "start_time": "2023-09-04T07:35:54.492990900Z"
    }
   }
  },
  {
   "cell_type": "code",
   "execution_count": 94,
   "outputs": [
    {
     "data": {
      "text/plain": "[{'id': 342,\n  'text': 'Huge rush for Jet Airways shares\\n\\nIndian airline Jet Airways initial public offering was oversubscribed 16.2 times, bankers said on Friday.\\n\\nOver 85% of the bids were at the higher end of the price range of 1,050-1,125 rupees ($24-$26). Jet Airways, a low-fare airline, was founded by London-based ex-travel agent Naresh Goya, and controls 45% of the Indian domestic airline market. It sold 20% of its equity or 17.2 million shares in a bid to raise up to $443m (£230.8m). The price at which its shares will begin trading will be agreed over the weekend, bankers said. The demand for the IPO was impressive. We believe that over the next two years, the domestic aviation sector promises strong growth, even though fuel prices could be high, said Hiten Mehta, manager of merchant banking firm, Fortune Financial Services. India began to open up its domestic airline market - previously dominated by state-run carrier Indian Airlines - in the 1990s. Jet began flying in 1993 and now has competitors including Air Deccan and Air Sahara. Budget carriers Kingfisher Airlines and SpiceJet are planning to launch operations in May this year. Jet has 42 aircraft and runs 271 scheduled flights daily within India. It recently won government permission to fly to London, Singapore and Kuala Lumpur.\\n',\n  'topic': 'business'},\n {'id': 6306,\n  'text': 'For a made for TV movie I thought that it was a great popcorn movie - dont expect anything to be very accurate and dont expect any award winners in this bunch but I do recommend this for a TV type version somewhat like The Replacements. Look for cameos from real NFL players & officials.',\n  'topic': 'movie'},\n {'id': 147,\n  'text': 'Iran budget seeks state sell-offs\\n\\nIrans president, Mohammad Khatami, has unveiled a budget designed to expand public spending by 30% but loosen the Islamic republics dependence on oil.\\n\\nThe budget for the fiscal year starting on 21 March calls for the sell-off of 20% of the states corporate holdings. Mr Khatamis second term as president ends on 1 August, making this his last budget. But opposition from members of parliament who have attacked previous privatisations could block his plans. Elections in May 2004 ousted many of Mr Khatamis supporters in parliament in favour of more hard-line religious conservatives. Late last year, they backed a law which would give parliament a veto over foreign investment. The ruling was a response to the involvement in telecoms and airport projects by Turkish companies, which hardliners accused of doing business with Israel. It came not long after the Expediency Council - Irans ultimate decision-maker - blessed Mr Khatamis policy of selling stakes in sectors protected by the constitution such as energy, transport, telecoms and banking. Continued obstruction of foreign investment could get in the way not only of privatisation plans, but also of Mr Khatamis hope of modestly reducing the governments reliance on oil revenues.\\n\\nIn an address to the Majlis, Mr Khatami predicted economic growth of 7.1% in 2005-6, up from 6.7% in the current year. He said he wanted to increase the 2005-6 budget to 1,546 trillion rials ($175.6bn; £93.6bn) from the previous years 1,070 trillion. Within that figure, taxation would rise to $14.3bn, a rise of over 40% from what is expected from the current year. In contrast, oil revenues were expected to fall to $14.1bn from $16bn in the year to March 2005. Current government expenditure should come from tax revenues, Mr Khatami said. Oil revenues should be used for productive investment. Mr Khatami has already been blocked by parliament from reducing the subsidies on many products including bread and petrol, reducing his room to manoeuvre.\\n',\n  'topic': 'business'},\n {'id': 4962,\n  'text': 'This documentary attempts comedy, but never quite gets there for me. Camp? Ehn, maybe. The more apt word that everyone will agree on -- and have a hard time avoiding in any review -- is kitsch. It dripped kitsch. It was as if the film makers had worried their viewers would take the movie too seriously, and so they bent over backwards to insert kitsch and proclaim, Were joking around here! See???In short, I felt it was trying too hard. For example, the sock puppets that introduced each scene were (to me) annoying when Im sure they were meant to be amusing -- or at least (ahem) kitsch-ey.Do not, however, avoid this movie based on my complaints. Just be ready to revel in kitsch rather than having it thrust at you unprepared. If youre interested in lighthearted fare, you could do far, far worse. At the very least, the facts surrounding the rise and fall of the Bakers make this interesting and worth a view. At best, gaggles of like minded kitsch lovers will hoot and holler over choice bits throughout the film.',\n  'topic': 'movie'},\n {'id': 532,\n  'text': 'US crude prices surge above $53\\n\\nUS crude prices have soared to fresh four-month highs above $53 in the US as refinery problems propelled petrol prices to an all-time high.\\n\\nUS light sweet crude futures jumped to $53.09 a barrel in New York before closing at $53.03. The gains tracked a surge in US gasoline futures to a record high of $1.4850 a gallon. The jump followed a fire at Western Refining Companys refinery in Texas, which shut down petrol production. A spokesman for the group was unable to say when the production unit would be back up and running. This market simply wants to go up, Citigroup Global Markets analyst Kyle Cooper told Reuters news agency. Ed Silliere, analyst at Energy Merchant, added: Gasoline is up because of the refinery issues in Texas, which means there will be a scramble for product in the (US) Gulf Coast.\\n\\nElsewhere, a refinery in Houston was closed due to mechanical problems, while on Tuesday production at BPs Texas City refinery was taken down for a short time. In the approach to Spring, the market becomes much more sensitive to problems with petrol production as dealers anticipate rising demand for fuel ahead of the holiday season. The rise in prices came despite a US government report that showed domestic supplies of fuel oil and fuel were rising. Meanwhile, oil production cartel Opecs recent announcement that it was now unlikely to cut production levels has also failed to calm fears on the market. Oil prices are roughly 45% higher than a year ago and have risen sharply in recent weeks due to a combination of colder weather, the declining value of the dollar and fears that Opec could rein in production to head off a seasonal drop in demand. Instability in Iraq and underlying fears about terrorism have also played a part in the rally.\\n',\n  'topic': 'business'}]"
     },
     "execution_count": 94,
     "metadata": {},
     "output_type": "execute_result"
    }
   ],
   "source": [
    "# Package recommendations into json format\n",
    "import json\n",
    "\n",
    "recs = post_texts.rename(columns={'post_id': 'id'}).set_index('id').loc[post_ids].reset_index()\n",
    "recs = recs.to_json(orient='records')\n",
    "recs = json.loads(recs)\n",
    "recs"
   ],
   "metadata": {
    "collapsed": false,
    "ExecuteTime": {
     "end_time": "2023-09-04T07:43:07.404951400Z",
     "start_time": "2023-09-04T07:43:07.353185800Z"
    }
   }
  }
 ],
 "metadata": {
  "kernelspec": {
   "display_name": "Python 3",
   "language": "python",
   "name": "python3"
  },
  "language_info": {
   "codemirror_mode": {
    "name": "ipython",
    "version": 2
   },
   "file_extension": ".py",
   "mimetype": "text/x-python",
   "name": "python",
   "nbconvert_exporter": "python",
   "pygments_lexer": "ipython2",
   "version": "2.7.6"
  }
 },
 "nbformat": 4,
 "nbformat_minor": 0
}
